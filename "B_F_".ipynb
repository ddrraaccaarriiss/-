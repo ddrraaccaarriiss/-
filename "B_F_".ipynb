{
  "cells": [
    {
      "cell_type": "markdown",
      "metadata": {
        "id": "view-in-github",
        "colab_type": "text"
      },
      "source": [
        "<a href=\"https://colab.research.google.com/github/ddrraaccaarriiss/Cramer/blob/master/%22B_F_%22.ipynb\" target=\"_parent\"><img src=\"https://colab.research.google.com/assets/colab-badge.svg\" alt=\"Open In Colab\"/></a>"
      ]
    },
    {
      "cell_type": "markdown",
      "source": [
        "В этом проекте на [Kaggle](https://www.kaggle.com/competitions/first-retail-model) было построено прогностическое моделирование покупок во время Черной пятницы, используя алгоритм случайного леса (RandomForestRegressor). Для этого был использован открытый набор данных с информацией об исторических продажах продуктов в различных категориях, а также социоэкономических данных о регионах, в которых были проведены эти продажи."
      ],
      "metadata": {
        "id": "Rln_gss6iLqT"
      },
      "id": "Rln_gss6iLqT"
    },
    {
      "cell_type": "markdown",
      "source": [
        "# RandomForestRegressor"
      ],
      "metadata": {
        "id": "Pleg0gnSiXMu"
      },
      "id": "Pleg0gnSiXMu"
    },
    {
      "cell_type": "code",
      "source": [
        "# импорт библиотек\n",
        "from sklearn.ensemble import RandomForestRegressor \n",
        "from sklearn.model_selection import train_test_split\n",
        "import pandas as pd\n",
        "import numpy as np"
      ],
      "metadata": {
        "id": "OgYMQt_ECMzQ"
      },
      "id": "OgYMQt_ECMzQ",
      "execution_count": 14,
      "outputs": []
    },
    {
      "cell_type": "code",
      "source": [
        "# Загрузка данных\n",
        "test = pd.read_csv('black_friday_test.csv')\n",
        "data = pd.read_csv('black_friday_train.csv')\n",
        "X = data.drop([\"Purchase\"], axis=1) \n",
        "y = data[\"Purchase\"]"
      ],
      "metadata": {
        "id": "Yzlxg2r-CMwd"
      },
      "id": "Yzlxg2r-CMwd",
      "execution_count": 2,
      "outputs": []
    },
    {
      "cell_type": "code",
      "source": [
        "# Разбивка данных на обучающую и тестовую выборки\n",
        "X_train, X_test, y_train, y_test = train_test_split(X, y, test_size=0.3, random_state=42)\n",
        "\n",
        "\n",
        "# обьявление модели и определение параметров\n",
        "n_estimators = 542\n",
        "max_depth = 9\n",
        "min_samples_split = 10\n",
        "min_samples_leaf = 2\n",
        "max_features = 'auto'\n",
        "\n",
        "model = RandomForestRegressor(n_estimators=n_estimators,\n",
        "                               max_depth=max_depth,\n",
        "                               min_samples_split=min_samples_split,\n",
        "                               min_samples_leaf=min_samples_leaf,\n",
        "                               max_features=max_features,\n",
        "                               random_state=42)"
      ],
      "metadata": {
        "id": "HuPcqVlJCMt2"
      },
      "id": "HuPcqVlJCMt2",
      "execution_count": null,
      "outputs": []
    },
    {
      "cell_type": "code",
      "source": [
        "# обучение ее на обучающих данных и засекеам время чтобы узнать сколько времени понадобилась на обучение\n",
        "import time\n",
        "\n",
        "start_time = time.perf_counter()\n",
        "\n",
        "model.fit(X_train, y_train)\n",
        "\n",
        "end_time = time.perf_counter()\n",
        "\n",
        "elapsed_time = end_time - start_time\n",
        "\n",
        "print(\"Elapsed time: {:.2f} seconds\".format(elapsed_time))"
      ],
      "metadata": {
        "colab": {
          "base_uri": "https://localhost:8080/"
        },
        "id": "ievkXKQ8CMrb",
        "outputId": "4b491798-9264-4693-af33-29f5a026fd3a"
      },
      "id": "ievkXKQ8CMrb",
      "execution_count": null,
      "outputs": [
        {
          "output_type": "stream",
          "name": "stderr",
          "text": [
            "/usr/local/lib/python3.10/dist-packages/sklearn/ensemble/_forest.py:413: FutureWarning: `max_features='auto'` has been deprecated in 1.1 and will be removed in 1.3. To keep the past behaviour, explicitly set `max_features=1.0` or remove this parameter as it is also the default value for RandomForestRegressors and ExtraTreesRegressors.\n",
            "  warn(\n"
          ]
        },
        {
          "output_type": "stream",
          "name": "stdout",
          "text": [
            "Elapsed time: 7.52 seconds\n"
          ]
        }
      ]
    },
    {
      "cell_type": "code",
      "source": [],
      "metadata": {
        "id": "HajgixmrVxcF"
      },
      "id": "HajgixmrVxcF",
      "execution_count": null,
      "outputs": []
    },
    {
      "cell_type": "markdown",
      "source": [
        "Оценка производительности на тестовом наборе данных "
      ],
      "metadata": {
        "id": "B2YP_174VrmS"
      },
      "id": "B2YP_174VrmS"
    },
    {
      "cell_type": "code",
      "source": [
        "# Средняя абсолютная ошибка (MAE) \n",
        "from sklearn.metrics import mean_absolute_error\n",
        "y_pred = model.predict(X_test)\n",
        "mae = mean_absolute_error(y_test, y_pred)\n",
        "print(\"MAE: \", mae)"
      ],
      "metadata": {
        "colab": {
          "base_uri": "https://localhost:8080/"
        },
        "id": "FXZIRqjNGtRv",
        "outputId": "75549721-5a5e-4097-de34-ab32f2daace0"
      },
      "id": "FXZIRqjNGtRv",
      "execution_count": null,
      "outputs": [
        {
          "output_type": "stream",
          "name": "stdout",
          "text": [
            "MAE:  2254.3564597730706\n"
          ]
        }
      ]
    },
    {
      "cell_type": "code",
      "source": [
        "# Среднеквадратическая ошибка (MSE)\n",
        "from sklearn.metrics import mean_squared_error\n",
        "y_pred = model.predict(X_test)\n",
        "mse = mean_squared_error(y_test, y_pred)\n",
        "print(\"MSE: \", mse)"
      ],
      "metadata": {
        "colab": {
          "base_uri": "https://localhost:8080/"
        },
        "id": "TfFyQhFPU7Se",
        "outputId": "8c04b69c-e2be-45bf-dc63-1aa6dd369110"
      },
      "id": "TfFyQhFPU7Se",
      "execution_count": null,
      "outputs": [
        {
          "output_type": "stream",
          "name": "stdout",
          "text": [
            "MSE:  8878648.623534441\n"
          ]
        }
      ]
    },
    {
      "cell_type": "code",
      "source": [
        "# Коэффициент детерминации (R2)\n",
        "from sklearn.metrics import r2_score\n",
        "y_pred = model.predict(X_test)\n",
        "r2 = r2_score(y_test, y_pred)\n",
        "print(\"R2: \", r2)"
      ],
      "metadata": {
        "colab": {
          "base_uri": "https://localhost:8080/"
        },
        "id": "4puQrYiyU2WN",
        "outputId": "d222780c-b444-432c-80bc-46eab2111288"
      },
      "id": "4puQrYiyU2WN",
      "execution_count": null,
      "outputs": [
        {
          "output_type": "stream",
          "name": "stdout",
          "text": [
            "R2:  0.6311289303066259\n"
          ]
        }
      ]
    },
    {
      "cell_type": "code",
      "source": [
        "# Средняя абсолютная процентная ошибка (MAPE)\n",
        "import numpy as np\n",
        "\n",
        "y_pred = model.predict(X_test)\n",
        "mape = np.mean(np.abs((y_test - y_pred) / y_test)) * 100\n",
        "print(\"MAPE: \", mape)"
      ],
      "metadata": {
        "colab": {
          "base_uri": "https://localhost:8080/"
        },
        "id": "MwzNFvl1WYUs",
        "outputId": "a9f8f6d4-71fd-41e3-c805-d068c4734e58"
      },
      "id": "MwzNFvl1WYUs",
      "execution_count": null,
      "outputs": [
        {
          "output_type": "stream",
          "name": "stdout",
          "text": [
            "MAPE:  34.435452009103514\n"
          ]
        }
      ]
    },
    {
      "cell_type": "code",
      "source": [
        "# предсказываем на тестовых данных\n",
        "predictions_ = model.predict(test)"
      ],
      "metadata": {
        "id": "DX_OywwnCMk5"
      },
      "id": "DX_OywwnCMk5",
      "execution_count": null,
      "outputs": []
    },
    {
      "cell_type": "code",
      "source": [
        "# записываем предсказание на submission_ датасет и загружаем на Kaggle\n",
        "submission_ = pd.DataFrame()\n",
        "submission_['id'] = test.index\n",
        "submission_['Purchase'] = predictions_\n",
        "submission_.to_csv('sample_submission_.csv', index=False)\n"
      ],
      "metadata": {
        "id": "8Y4WXxUFDhtO"
      },
      "id": "8Y4WXxUFDhtO",
      "execution_count": null,
      "outputs": []
    },
    {
      "cell_type": "code",
      "source": [],
      "metadata": {
        "id": "K2mdczoUKul7"
      },
      "id": "K2mdczoUKul7",
      "execution_count": null,
      "outputs": []
    },
    {
      "cell_type": "markdown",
      "source": [
        "# Decision trees"
      ],
      "metadata": {
        "id": "crTyhrHdJ6lw"
      },
      "id": "crTyhrHdJ6lw"
    },
    {
      "cell_type": "code",
      "source": [
        "from sklearn.tree import DecisionTreeRegressor\n",
        "from sklearn.model_selection import train_test_split\n",
        "from sklearn.metrics import mean_absolute_error\n",
        "import pandas as pd\n",
        "\n",
        "# Загрузка данных\n",
        "# test = pd.read_csv('black_friday_test.csv')\n",
        "data = pd.read_csv('black_friday_train.csv')\n",
        "X = data.drop([\"Purchase\"], axis=1) \n",
        "y = data[\"Purchase\"]\n",
        "\n",
        "# Разбивка данных на обучающую и тестовую выборки\n",
        "X_train, X_test, y_train, y_test = train_test_split(X, y, test_size=0.2, random_state=42)\n",
        "\n",
        "# Создание модели Дерева решений и обучение ее на обучающих данных\n",
        "dt_model = DecisionTreeRegressor(max_depth=3, random_state=42)\n",
        "dt_model.fit(X_train, y_train)\n",
        "\n",
        "# Оценка качества модели на тестовых данных\n",
        "mae = mean_absolute_error(y_test, dt_model.predict(X_test))\n",
        "print(\"Mean Absolute Error:\", mae)"
      ],
      "metadata": {
        "colab": {
          "base_uri": "https://localhost:8080/"
        },
        "id": "ziNEXdP9IczT",
        "outputId": "cbfe468a-27fe-47c7-e16a-9653ec7960ce"
      },
      "id": "ziNEXdP9IczT",
      "execution_count": null,
      "outputs": [
        {
          "output_type": "stream",
          "name": "stdout",
          "text": [
            "Mean Absolute Error: 2904.9270510353717\n"
          ]
        }
      ]
    },
    {
      "cell_type": "code",
      "source": [],
      "metadata": {
        "id": "PoAZWXbqLjVT"
      },
      "id": "PoAZWXbqLjVT",
      "execution_count": null,
      "outputs": []
    },
    {
      "cell_type": "markdown",
      "source": [
        "# GradientBoostingRegressor\n",
        "\n"
      ],
      "metadata": {
        "id": "kKGBElfoLarC"
      },
      "id": "kKGBElfoLarC"
    },
    {
      "cell_type": "code",
      "source": [
        "from sklearn.datasets import load_digits\n",
        "from sklearn.ensemble import GradientBoostingRegressor\n",
        "from sklearn.model_selection import train_test_split\n",
        "\n",
        "# Загрузка данных\n",
        "data = pd.read_csv('black_friday_train.csv')\n",
        "X = data.drop([\"Purchase\"], axis=1) \n",
        "y = data[\"Purchase\"]\n",
        "\n",
        "# Разбивка данных на обучающую и тестовую выборки\n",
        "X_train, X_test, y_train, y_test = train_test_split(X, y, test_size=0.2, random_state=42)\n",
        "\n",
        "# Создание модели Gradient Boosting Regressor и обучение ее на обучающих данных\n",
        "gb_model = GradientBoostingRegressor(n_estimators=100, learning_rate=0.1, max_depth=3, random_state=42)\n",
        "gb_model.fit(X_train, y_train)\n",
        "\n",
        "# Оценка качества модели на тестовых данных\n",
        "mae = mean_absolute_error(y_test, gb_model.predict(X_test))\n",
        "print(\"Mean Absolute Error:\", mae)"
      ],
      "metadata": {
        "id": "BVmzgJweDxkW",
        "colab": {
          "base_uri": "https://localhost:8080/"
        },
        "outputId": "48f2dfb4-08ab-487b-d349-8b09a843199e"
      },
      "id": "BVmzgJweDxkW",
      "execution_count": 18,
      "outputs": [
        {
          "output_type": "stream",
          "name": "stdout",
          "text": [
            "Mean Absolute Error: 2306.7252602106923\n"
          ]
        }
      ]
    },
    {
      "cell_type": "markdown",
      "source": [
        "# xgboost"
      ],
      "metadata": {
        "id": "wm8_A5ojL-U-"
      },
      "id": "wm8_A5ojL-U-"
    },
    {
      "cell_type": "code",
      "source": [
        "!pip install xgboost\n",
        "import pandas as pd\n",
        "import xgboost as xgb\n",
        "from sklearn.metrics import mean_absolute_error\n",
        "from sklearn.model_selection import train_test_split\n",
        "\n",
        "# Загрузка данных\n",
        "data = pd.read_csv('black_friday_train.csv')\n",
        "X = data.drop([\"Purchase\"], axis=1) \n",
        "y = data[\"Purchase\"]\n",
        "\n",
        "# Разбивка данных на обучающую и тестовую выборки\n",
        "X_train, X_test, y_train, y_test = train_test_split(X, y, test_size=0.2, random_state=42)\n",
        "\n",
        "# Преобразование данных в формат DMatrix, который используется XGBoost\n",
        "dtrain = xgb.DMatrix(X_train, label=y_train)\n",
        "dtest = xgb.DMatrix(X_test)\n",
        "\n",
        "# Определение параметров модели XGBoost\n",
        "params = {\n",
        "    'objective': 'reg:squarederror',\n",
        "    'colsample_bytree': 0.7,\n",
        "    'learning_rate': 0.1,\n",
        "    'max_depth': 5,\n",
        "    'alpha': 10,\n",
        "    'n_estimators': 100\n",
        "}\n",
        "\n",
        "# Обучение модели XGBoost на обучающих данных\n",
        "xgb_model = xgb.train(params, dtrain)\n",
        "\n",
        "# Оценка качества модели на тестовых данных\n",
        "y_pred = xgb_model.predict(dtest)\n",
        "mae = mean_absolute_error(y_test, y_pred)\n",
        "print(\"Mean Absolute Error:\", mae)"
      ],
      "metadata": {
        "id": "TsQ7arvSIct9",
        "colab": {
          "base_uri": "https://localhost:8080/"
        },
        "outputId": "a57fcbb2-fa76-42d2-fd67-195025e82640"
      },
      "id": "TsQ7arvSIct9",
      "execution_count": 19,
      "outputs": [
        {
          "output_type": "stream",
          "name": "stdout",
          "text": [
            "Looking in indexes: https://pypi.org/simple, https://us-python.pkg.dev/colab-wheels/public/simple/\n",
            "Requirement already satisfied: xgboost in /usr/local/lib/python3.10/dist-packages (1.7.5)\n",
            "Requirement already satisfied: numpy in /usr/local/lib/python3.10/dist-packages (from xgboost) (1.22.4)\n",
            "Requirement already satisfied: scipy in /usr/local/lib/python3.10/dist-packages (from xgboost) (1.10.1)\n",
            "[16:59:30] WARNING: ../src/learner.cc:767: \n",
            "Parameters: { \"n_estimators\" } are not used.\n",
            "\n",
            "Mean Absolute Error: 3882.4220289001464\n"
          ]
        }
      ]
    },
    {
      "cell_type": "code",
      "source": [],
      "metadata": {
        "id": "BG-uWbMgIcr4"
      },
      "id": "BG-uWbMgIcr4",
      "execution_count": null,
      "outputs": []
    },
    {
      "cell_type": "markdown",
      "source": [
        "# catboost"
      ],
      "metadata": {
        "id": "k1OUBvhTNGI4"
      },
      "id": "k1OUBvhTNGI4"
    },
    {
      "cell_type": "code",
      "source": [
        "!pip install catboost\n",
        "import pandas as pd\n",
        "from catboost import CatBoostRegressor\n",
        "from sklearn.metrics import mean_absolute_error\n",
        "from sklearn.model_selection import train_test_split\n",
        "\n",
        "# Загрузка данных\n",
        "data = pd.read_csv('black_friday_train.csv')\n",
        "X = data.drop([\"Purchase\"], axis=1) \n",
        "y = data[\"Purchase\"]\n",
        "\n",
        "# Разбивка данных на обучающую и тестовую выборки\n",
        "X_train, X_test, y_train, y_test = train_test_split(X, y, test_size=0.2, random_state=42)\n",
        "\n",
        "# Создание и обучение модели CatBoost на обучающих данных\n",
        "cat_model = CatBoostRegressor(iterations=100, learning_rate=0.1, depth=5, loss_function='MAE', random_seed=42)\n",
        "cat_model.fit(X_train, y_train, verbose=False)\n",
        "\n",
        "# Оценка качества модели на тестовых данных\n",
        "y_pred = cat_model.predict(X_test)\n",
        "mae = mean_absolute_error(y_test, y_pred)\n",
        "print(\"Mean Absolute Error:\", mae)"
      ],
      "metadata": {
        "id": "h3tjIfhTIcpu",
        "colab": {
          "base_uri": "https://localhost:8080/"
        },
        "outputId": "672d0643-ac1d-48b1-8e20-fa0a16cbeba7"
      },
      "id": "h3tjIfhTIcpu",
      "execution_count": 1,
      "outputs": [
        {
          "output_type": "stream",
          "name": "stdout",
          "text": [
            "Looking in indexes: https://pypi.org/simple, https://us-python.pkg.dev/colab-wheels/public/simple/\n",
            "Collecting catboost\n",
            "  Using cached catboost-1.2-cp310-cp310-manylinux2014_x86_64.whl (98.6 MB)\n",
            "Requirement already satisfied: graphviz in /usr/local/lib/python3.10/dist-packages (from catboost) (0.20.1)\n",
            "Requirement already satisfied: matplotlib in /usr/local/lib/python3.10/dist-packages (from catboost) (3.7.1)\n",
            "Requirement already satisfied: numpy>=1.16.0 in /usr/local/lib/python3.10/dist-packages (from catboost) (1.22.4)\n",
            "Requirement already satisfied: pandas>=0.24 in /usr/local/lib/python3.10/dist-packages (from catboost) (1.5.3)\n",
            "Requirement already satisfied: scipy in /usr/local/lib/python3.10/dist-packages (from catboost) (1.10.1)\n",
            "Requirement already satisfied: plotly in /usr/local/lib/python3.10/dist-packages (from catboost) (5.13.1)\n",
            "Requirement already satisfied: six in /usr/local/lib/python3.10/dist-packages (from catboost) (1.16.0)\n",
            "Requirement already satisfied: python-dateutil>=2.8.1 in /usr/local/lib/python3.10/dist-packages (from pandas>=0.24->catboost) (2.8.2)\n",
            "Requirement already satisfied: pytz>=2020.1 in /usr/local/lib/python3.10/dist-packages (from pandas>=0.24->catboost) (2022.7.1)\n",
            "Requirement already satisfied: contourpy>=1.0.1 in /usr/local/lib/python3.10/dist-packages (from matplotlib->catboost) (1.0.7)\n",
            "Requirement already satisfied: cycler>=0.10 in /usr/local/lib/python3.10/dist-packages (from matplotlib->catboost) (0.11.0)\n",
            "Requirement already satisfied: fonttools>=4.22.0 in /usr/local/lib/python3.10/dist-packages (from matplotlib->catboost) (4.39.3)\n",
            "Requirement already satisfied: kiwisolver>=1.0.1 in /usr/local/lib/python3.10/dist-packages (from matplotlib->catboost) (1.4.4)\n",
            "Requirement already satisfied: packaging>=20.0 in /usr/local/lib/python3.10/dist-packages (from matplotlib->catboost) (23.1)\n",
            "Requirement already satisfied: pillow>=6.2.0 in /usr/local/lib/python3.10/dist-packages (from matplotlib->catboost) (8.4.0)\n",
            "Requirement already satisfied: pyparsing>=2.3.1 in /usr/local/lib/python3.10/dist-packages (from matplotlib->catboost) (3.0.9)\n",
            "Requirement already satisfied: tenacity>=6.2.0 in /usr/local/lib/python3.10/dist-packages (from plotly->catboost) (8.2.2)\n",
            "Installing collected packages: catboost\n",
            "Successfully installed catboost-1.2\n",
            "Mean Absolute Error: 2273.814219587568\n"
          ]
        }
      ]
    },
    {
      "cell_type": "markdown",
      "source": [
        "# lightgbm"
      ],
      "metadata": {
        "id": "1vHyRiU-N8_D"
      },
      "id": "1vHyRiU-N8_D"
    },
    {
      "cell_type": "code",
      "source": [
        "import lightgbm as lgb\n",
        "from sklearn.model_selection import train_test_split\n",
        "from sklearn.metrics import mean_absolute_error\n",
        "\n",
        "# Загрузка данных\n",
        "data = pd.read_csv('black_friday_train.csv')\n",
        "X = data.drop([\"Purchase\"], axis=1) \n",
        "y = data[\"Purchase\"]\n",
        "\n",
        "# Разбиение данных на обучающую и тестовую выборки\n",
        "X_train, X_test, y_train, y_test = train_test_split(X, y, test_size=0.2, random_state=42)\n",
        "\n",
        "# Определение параметров модели\n",
        "params = {'objective': 'regression', 'max_depth': 10, 'learning_rate': 0.1, 'n_estimators': 100}\n",
        "\n",
        "# Обучение модели\n",
        "train_data = lgb.Dataset(X_train, label=y_train)\n",
        "test_data = lgb.Dataset(X_test, label=y_test)\n",
        "model = lgb.train(params, train_data, valid_sets=test_data, early_stopping_rounds=10)\n",
        "\n",
        "# Оценка качества модели\n",
        "y_pred = model.predict(X_test)\n",
        "mae = mean_absolute_error(y_test, y_pred)\n",
        "print('MAE:', mae)"
      ],
      "metadata": {
        "colab": {
          "base_uri": "https://localhost:8080/"
        },
        "id": "SSLtRPGYoQuQ",
        "outputId": "8761b7bd-7381-42cb-8d7f-913d6b7130bc"
      },
      "id": "SSLtRPGYoQuQ",
      "execution_count": 7,
      "outputs": [
        {
          "output_type": "stream",
          "name": "stdout",
          "text": [
            "[LightGBM] [Warning] Accuracy may be bad since you didn't explicitly set num_leaves OR 2^max_depth > num_leaves. (num_leaves=31).\n",
            "[LightGBM] [Warning] Accuracy may be bad since you didn't explicitly set num_leaves OR 2^max_depth > num_leaves. (num_leaves=31).\n",
            "[LightGBM] [Warning] Auto-choosing row-wise multi-threading, the overhead of testing was 0.003969 seconds.\n",
            "You can set `force_row_wise=true` to remove the overhead.\n",
            "And if memory is not enough, you can set `force_col_wise=true`.\n",
            "[LightGBM] [Info] Total Bins 93\n",
            "[LightGBM] [Info] Number of data points in the train set: 16000, number of used features: 9\n",
            "[LightGBM] [Warning] Accuracy may be bad since you didn't explicitly set num_leaves OR 2^max_depth > num_leaves. (num_leaves=31).\n",
            "[LightGBM] [Info] Start training from score 9222.260875\n",
            "[1]\tvalid_0's l2: 2.17218e+07\n",
            "Training until validation scores don't improve for 10 rounds\n",
            "[2]\tvalid_0's l2: 1.93474e+07\n",
            "[3]\tvalid_0's l2: 1.74298e+07\n",
            "[4]\tvalid_0's l2: 1.58607e+07\n",
            "[5]\tvalid_0's l2: 1.46074e+07\n",
            "[6]\tvalid_0's l2: 1.35724e+07\n",
            "[7]\tvalid_0's l2: 1.2749e+07\n",
            "[8]\tvalid_0's l2: 1.20637e+07\n",
            "[9]\tvalid_0's l2: 1.15179e+07\n",
            "[10]\tvalid_0's l2: 1.10716e+07\n",
            "[11]\tvalid_0's l2: 1.07067e+07\n",
            "[12]\tvalid_0's l2: 1.04151e+07\n",
            "[13]\tvalid_0's l2: 1.01717e+07\n",
            "[14]\tvalid_0's l2: 9.97717e+06\n",
            "[15]\tvalid_0's l2: 9.81156e+06\n",
            "[16]\tvalid_0's l2: 9.68224e+06\n",
            "[17]\tvalid_0's l2: 9.57388e+06\n",
            "[18]\tvalid_0's l2: 9.48156e+06\n",
            "[19]\tvalid_0's l2: 9.4119e+06\n",
            "[20]\tvalid_0's l2: 9.35532e+06\n",
            "[21]\tvalid_0's l2: 9.30094e+06\n",
            "[22]\tvalid_0's l2: 9.25147e+06\n",
            "[23]\tvalid_0's l2: 9.21976e+06\n",
            "[24]\tvalid_0's l2: 9.19824e+06\n",
            "[25]\tvalid_0's l2: 9.17479e+06\n",
            "[26]\tvalid_0's l2: 9.14423e+06\n",
            "[27]\tvalid_0's l2: 9.12796e+06\n",
            "[28]\tvalid_0's l2: 9.11768e+06\n",
            "[29]\tvalid_0's l2: 9.10354e+06\n",
            "[30]\tvalid_0's l2: 9.09168e+06\n",
            "[31]\tvalid_0's l2: 9.07755e+06\n",
            "[32]\tvalid_0's l2: 9.06527e+06\n",
            "[33]\tvalid_0's l2: 9.05966e+06\n",
            "[34]\tvalid_0's l2: 9.05137e+06\n",
            "[35]\tvalid_0's l2: 9.04461e+06\n",
            "[36]\tvalid_0's l2: 9.0327e+06\n",
            "[37]\tvalid_0's l2: 9.02997e+06\n",
            "[38]\tvalid_0's l2: 9.02424e+06\n",
            "[39]\tvalid_0's l2: 9.01897e+06\n",
            "[40]\tvalid_0's l2: 9.01945e+06\n",
            "[41]\tvalid_0's l2: 9.01462e+06\n",
            "[42]\tvalid_0's l2: 9.01156e+06\n",
            "[43]\tvalid_0's l2: 9.01035e+06\n",
            "[44]\tvalid_0's l2: 9.00216e+06\n",
            "[45]\tvalid_0's l2: 8.99692e+06\n",
            "[46]\tvalid_0's l2: 8.99537e+06\n",
            "[47]\tvalid_0's l2: 8.98679e+06\n",
            "[48]\tvalid_0's l2: 8.97645e+06\n",
            "[49]\tvalid_0's l2: 8.9733e+06\n",
            "[50]\tvalid_0's l2: 8.96357e+06\n",
            "[51]\tvalid_0's l2: 8.96029e+06\n",
            "[52]\tvalid_0's l2: 8.96532e+06\n",
            "[53]\tvalid_0's l2: 8.96201e+06\n",
            "[54]\tvalid_0's l2: 8.96556e+06\n",
            "[55]\tvalid_0's l2: 8.96423e+06\n",
            "[56]\tvalid_0's l2: 8.96476e+06\n",
            "[57]\tvalid_0's l2: 8.95478e+06\n",
            "[58]\tvalid_0's l2: 8.9537e+06\n",
            "[59]\tvalid_0's l2: 8.9593e+06\n",
            "[60]\tvalid_0's l2: 8.95646e+06\n",
            "[61]\tvalid_0's l2: 8.95489e+06\n",
            "[62]\tvalid_0's l2: 8.95642e+06\n",
            "[63]\tvalid_0's l2: 8.9556e+06\n",
            "[64]\tvalid_0's l2: 8.95935e+06\n",
            "[65]\tvalid_0's l2: 8.95662e+06\n",
            "[66]\tvalid_0's l2: 8.96047e+06\n",
            "[67]\tvalid_0's l2: 8.96356e+06\n",
            "[68]\tvalid_0's l2: 8.96544e+06\n",
            "Early stopping, best iteration is:\n",
            "[58]\tvalid_0's l2: 8.9537e+06\n",
            "MAE: 2263.3263006083016\n"
          ]
        },
        {
          "output_type": "stream",
          "name": "stderr",
          "text": [
            "/usr/local/lib/python3.10/dist-packages/lightgbm/engine.py:177: UserWarning: Found `n_estimators` in params. Will use it instead of argument\n",
            "  _log_warning(f\"Found `{alias}` in params. Will use it instead of argument\")\n",
            "/usr/local/lib/python3.10/dist-packages/lightgbm/engine.py:181: UserWarning: 'early_stopping_rounds' argument is deprecated and will be removed in a future release of LightGBM. Pass 'early_stopping()' callback via 'callbacks' argument instead.\n",
            "  _log_warning(\"'early_stopping_rounds' argument is deprecated and will be removed in a future release of LightGBM. \"\n"
          ]
        }
      ]
    }
  ],
  "metadata": {
    "colab": {
      "provenance": [],
      "include_colab_link": true
    },
    "kernelspec": {
      "display_name": "Python 3",
      "language": "python",
      "name": "python3"
    },
    "language_info": {
      "codemirror_mode": {
        "name": "ipython",
        "version": 3
      },
      "file_extension": ".py",
      "mimetype": "text/x-python",
      "name": "python",
      "nbconvert_exporter": "python",
      "pygments_lexer": "ipython3",
      "version": "3.8.8"
    }
  },
  "nbformat": 4,
  "nbformat_minor": 5
}