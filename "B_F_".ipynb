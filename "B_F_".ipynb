{
  "cells": [
    {
      "cell_type": "markdown",
      "metadata": {
        "id": "view-in-github",
        "colab_type": "text"
      },
      "source": [
        "<a href=\"https://colab.research.google.com/github/ddrraaccaarriiss/Cramer/blob/master/%22B_F_%22.ipynb\" target=\"_parent\"><img src=\"https://colab.research.google.com/assets/colab-badge.svg\" alt=\"Open In Colab\"/></a>"
      ]
    },
    {
      "cell_type": "markdown",
      "source": [
        "В этом проекте на [Kaggle](https://www.kaggle.com/competitions/first-retail-model) было построено прогностическое моделирование покупок во время Черной пятницы, используя алгоритм случайного леса (RandomForestRegressor). Для этого был использован открытый набор данных с информацией об исторических продажах продуктов в различных категориях, а также социоэкономических данных о регионах, в которых были проведены эти продажи."
      ],
      "metadata": {
        "id": "Rln_gss6iLqT"
      },
      "id": "Rln_gss6iLqT"
    },
    {
      "cell_type": "markdown",
      "source": [
        "# RandomForestRegressor"
      ],
      "metadata": {
        "id": "Pleg0gnSiXMu"
      },
      "id": "Pleg0gnSiXMu"
    },
    {
      "cell_type": "code",
      "source": [
        "# импорт библиотек\n",
        "from sklearn.ensemble import RandomForestRegressor \n",
        "from sklearn.metrics import accuracy_score\n",
        "from sklearn.model_selection import train_test_split\n",
        "import pandas as pd\n",
        "import numpy as np"
      ],
      "metadata": {
        "id": "OgYMQt_ECMzQ"
      },
      "id": "OgYMQt_ECMzQ",
      "execution_count": null,
      "outputs": []
    },
    {
      "cell_type": "code",
      "source": [
        "# Загрузка данных\n",
        "test = pd.read_csv('black_friday_test.csv')\n",
        "data = pd.read_csv('black_friday_train.csv')\n",
        "X = data.drop([\"Purchase\"], axis=1) \n",
        "y = data[\"Purchase\"]"
      ],
      "metadata": {
        "id": "Yzlxg2r-CMwd"
      },
      "id": "Yzlxg2r-CMwd",
      "execution_count": 31,
      "outputs": []
    },
    {
      "cell_type": "code",
      "source": [
        "# Разбивка данных на обучающую и тестовую выборки\n",
        "X_train, X_test, y_train, y_test = train_test_split(X, y, test_size=0.3, random_state=42)\n",
        "\n",
        "\n",
        "# обьявление модели и определение параметров\n",
        "n_estimators = 542\n",
        "max_depth = 9\n",
        "min_samples_split = 10\n",
        "min_samples_leaf = 2\n",
        "max_features = 'auto'\n",
        "\n",
        "model = RandomForestRegressor(n_estimators=n_estimators,\n",
        "                               max_depth=max_depth,\n",
        "                               min_samples_split=min_samples_split,\n",
        "                               min_samples_leaf=min_samples_leaf,\n",
        "                               max_features=max_features,\n",
        "                               random_state=42)"
      ],
      "metadata": {
        "id": "HuPcqVlJCMt2"
      },
      "id": "HuPcqVlJCMt2",
      "execution_count": 32,
      "outputs": []
    },
    {
      "cell_type": "code",
      "source": [
        "# обучение ее на обучающих данных и засекеам время чтобы узнать сколько времени понадобилась на обучение\n",
        "import time\n",
        "\n",
        "start_time = time.perf_counter()\n",
        "\n",
        "model.fit(X_train, y_train)\n",
        "\n",
        "end_time = time.perf_counter()\n",
        "\n",
        "elapsed_time = end_time - start_time\n",
        "\n",
        "print(\"Elapsed time: {:.2f} seconds\".format(elapsed_time))"
      ],
      "metadata": {
        "colab": {
          "base_uri": "https://localhost:8080/"
        },
        "id": "ievkXKQ8CMrb",
        "outputId": "e52f3c28-9b77-4ebc-cc58-a08f378cabf6"
      },
      "id": "ievkXKQ8CMrb",
      "execution_count": 33,
      "outputs": [
        {
          "output_type": "stream",
          "name": "stderr",
          "text": [
            "/usr/local/lib/python3.10/dist-packages/sklearn/ensemble/_forest.py:413: FutureWarning: `max_features='auto'` has been deprecated in 1.1 and will be removed in 1.3. To keep the past behaviour, explicitly set `max_features=1.0` or remove this parameter as it is also the default value for RandomForestRegressors and ExtraTreesRegressors.\n",
            "  warn(\n"
          ]
        },
        {
          "output_type": "stream",
          "name": "stdout",
          "text": [
            "Elapsed time: 8.35 seconds\n"
          ]
        }
      ]
    },
    {
      "cell_type": "code",
      "source": [
        "# Оценка производительности на тестовом наборе данных \n",
        "\n",
        "accuracy = model.score(X_test, y_test)\n",
        "print(\"Оценка производительности на тестовом наборе данных:\", accuracy)"
      ],
      "metadata": {
        "colab": {
          "base_uri": "https://localhost:8080/"
        },
        "id": "FXZIRqjNGtRv",
        "outputId": "d07dade7-9468-44ca-d0c5-d602ad23aa74"
      },
      "id": "FXZIRqjNGtRv",
      "execution_count": 38,
      "outputs": [
        {
          "output_type": "stream",
          "name": "stdout",
          "text": [
            "Оценка производительности на тестовом наборе данных: 0.6311289303066259\n"
          ]
        }
      ]
    },
    {
      "cell_type": "code",
      "source": [
        "# предсказываем на тестовых данных\n",
        "predictions_ = model.predict(test)"
      ],
      "metadata": {
        "id": "DX_OywwnCMk5"
      },
      "id": "DX_OywwnCMk5",
      "execution_count": 34,
      "outputs": []
    },
    {
      "cell_type": "code",
      "source": [
        "# записываем предсказание на submission_ датасет и загружаем на Kaggle\n",
        "submission_ = pd.DataFrame()\n",
        "submission_['id'] = test.index\n",
        "submission_['Purchase'] = predictions_\n",
        "submission_.to_csv('sample_submission_.csv', index=False)\n"
      ],
      "metadata": {
        "id": "8Y4WXxUFDhtO"
      },
      "id": "8Y4WXxUFDhtO",
      "execution_count": 35,
      "outputs": []
    },
    {
      "cell_type": "code",
      "source": [],
      "metadata": {
        "id": "K2mdczoUKul7"
      },
      "id": "K2mdczoUKul7",
      "execution_count": null,
      "outputs": []
    },
    {
      "cell_type": "markdown",
      "source": [
        "# RandomForestClassifier"
      ],
      "metadata": {
        "id": "tLgeQOBIK5nE"
      },
      "id": "tLgeQOBIK5nE"
    },
    {
      "cell_type": "code",
      "source": [
        "from sklearn.datasets import load_digits\n",
        "from sklearn.ensemble import RandomForestClassifier\n",
        "from sklearn.model_selection import train_test_split\n",
        "\n",
        "# Загрузка данных\n",
        "test = pd.read_csv('black_friday_test.csv')\n",
        "data = pd.read_csv('black_friday_train.csv')\n",
        "X = data.drop([\"Purchase\"], axis=1) \n",
        "y = data[\"Purchase\"]\n",
        "\n",
        "# Разбивка данных на обучающую и тестовую выборки\n",
        "X_train, X_test, y_train, y_test = train_test_split(X, y, test_size=0.2, random_state=42)\n",
        "\n",
        "# Создание модели случайного леса и обучение ее на обучающих данных\n",
        "rf_model = RandomForestClassifier(n_estimators=100, max_depth=5, random_state=42)\n",
        "rf_model.fit(X_train, y_train)\n",
        "\n",
        "# Оценка качества модели на тестовых данных\n",
        "accuracy = rf_model.score(X_test, y_test)\n",
        "print(\"Accuracy:\", accuracy)"
      ],
      "metadata": {
        "colab": {
          "base_uri": "https://localhost:8080/"
        },
        "id": "1YEZygwjK4D9",
        "outputId": "bdfeccf1-d801-4cff-d588-73a59f9c93a8"
      },
      "id": "1YEZygwjK4D9",
      "execution_count": 40,
      "outputs": [
        {
          "output_type": "stream",
          "name": "stdout",
          "text": [
            "Accuracy: 0.001\n"
          ]
        }
      ]
    },
    {
      "cell_type": "markdown",
      "source": [
        "# Decision trees"
      ],
      "metadata": {
        "id": "crTyhrHdJ6lw"
      },
      "id": "crTyhrHdJ6lw"
    },
    {
      "cell_type": "code",
      "source": [
        "from sklearn.datasets import load_digits\n",
        "from sklearn.tree import DecisionTreeClassifier\n",
        "from sklearn.model_selection import train_test_split\n",
        "from sklearn.metrics import accuracy_score\n",
        "\n",
        "# Загрузка данных\n",
        "test = pd.read_csv('black_friday_test.csv')\n",
        "data = pd.read_csv('black_friday_train.csv')\n",
        "X = data.drop([\"Purchase\"], axis=1) \n",
        "y = data[\"Purchase\"]\n",
        "\n",
        "# Разбивка данных на обучающую и тестовую выборки\n",
        "X_train, X_test, y_train, y_test = train_test_split(X, y, test_size=0.2, random_state=42)\n",
        "\n",
        "# Создание модели деревьев решений и обучение ее на обучающих данных\n",
        "dt_model = DecisionTreeClassifier(random_state=42)\n",
        "dt_model.fit(X_train, y_train)\n",
        "\n",
        "# Оценка качества модели на тестовых данных\n",
        "accuracy = dt_model.score(X_test, y_test)\n",
        "print(\"Accuracy:\", accuracy)"
      ],
      "metadata": {
        "colab": {
          "base_uri": "https://localhost:8080/"
        },
        "id": "ziNEXdP9IczT",
        "outputId": "cab85ff1-54ea-4153-b3a7-8bb0625c0a78"
      },
      "id": "ziNEXdP9IczT",
      "execution_count": 39,
      "outputs": [
        {
          "output_type": "stream",
          "name": "stdout",
          "text": [
            "Accuracy: 0.0005\n"
          ]
        }
      ]
    },
    {
      "cell_type": "code",
      "source": [],
      "metadata": {
        "id": "PoAZWXbqLjVT"
      },
      "id": "PoAZWXbqLjVT",
      "execution_count": null,
      "outputs": []
    },
    {
      "cell_type": "markdown",
      "source": [
        "# GradientBoostingClassifier"
      ],
      "metadata": {
        "id": "kKGBElfoLarC"
      },
      "id": "kKGBElfoLarC"
    },
    {
      "cell_type": "code",
      "source": [
        "from sklearn.datasets import load_digits\n",
        "from sklearn.ensemble import GradientBoostingClassifier\n",
        "from sklearn.model_selection import train_test_split\n",
        "\n",
        "# Загрузка данных\n",
        "test = pd.read_csv('black_friday_test.csv')\n",
        "data = pd.read_csv('black_friday_train.csv')\n",
        "X = data.drop([\"Purchase\"], axis=1) \n",
        "y = data[\"Purchase\"]\n",
        "\n",
        "\n",
        "# Разбивка данных на обучающую и тестовую выборки\n",
        "X_train, X_test, y_train, y_test = train_test_split(X, y, test_size=0.2, random_state=42)\n",
        "\n",
        "# Создание модели Gradient boosting и обучение ее на обучающих данных\n",
        "gb_model = GradientBoostingClassifier(n_estimators=100, learning_rate=0.1, max_depth=3, random_state=42)\n",
        "gb_model.fit(X_train, y_train)\n",
        "\n",
        "# Оценка качества модели на тестовых данных\n",
        "accuracy = gb_model.score(X_test, y_test)\n",
        "print(\"Accuracy:\", accuracy)"
      ],
      "metadata": {
        "id": "eGzoAvK9Icv4"
      },
      "id": "eGzoAvK9Icv4",
      "execution_count": 42,
      "outputs": []
    },
    {
      "cell_type": "markdown",
      "source": [
        "# xgboost"
      ],
      "metadata": {
        "id": "wm8_A5ojL-U-"
      },
      "id": "wm8_A5ojL-U-"
    },
    {
      "cell_type": "code",
      "source": [
        "!pip install xgboost\n",
        "import xgboost as xgb\n",
        "from sklearn.datasets import load_digits\n",
        "from sklearn.model_selection import train_test_split\n",
        "\n",
        "# Загрузка данных\n",
        "data = load_digits()\n",
        "X = data.data\n",
        "y = data.target\n",
        "\n",
        "# Разбивка данных на обучающую и тестовую выборки\n",
        "X_train, X_test, y_train, y_test = train_test_split(X, y, test_size=0.2, random_state=42)\n",
        "\n",
        "# Преобразование данных в объекты DMatrix\n",
        "dtrain = xgb.DMatrix(X_train, label=y_train)\n",
        "dtest = xgb.DMatrix(X_test, label=y_test)\n",
        "\n",
        "# Определение параметров модели\n",
        "params = {\n",
        "    \"max_depth\": 4,\n",
        "    \"eta\": 0.5,\n",
        "    \"objective\": \"multi:softmax\",\n",
        "    \"num_class\": 10,\n",
        "    \"eval_metric\": \"merror\",\n",
        "    \"seed\": 42\n",
        "}\n",
        "\n",
        "# Обучение модели\n",
        "num_rounds = 100\n",
        "xgb_model = xgb.train(params, dtrain, num_rounds)\n",
        "\n",
        "# Оценка качества модели на тестовых данных\n",
        "y_pred = xgb_model.predict(dtest)\n",
        "accuracy = (y_pred == y_test).mean()\n",
        "print(\"Accuracy:\", accuracy)"
      ],
      "metadata": {
        "id": "TsQ7arvSIct9"
      },
      "id": "TsQ7arvSIct9",
      "execution_count": null,
      "outputs": []
    },
    {
      "cell_type": "code",
      "source": [],
      "metadata": {
        "id": "BG-uWbMgIcr4"
      },
      "id": "BG-uWbMgIcr4",
      "execution_count": null,
      "outputs": []
    },
    {
      "cell_type": "markdown",
      "source": [
        "# catboost"
      ],
      "metadata": {
        "id": "k1OUBvhTNGI4"
      },
      "id": "k1OUBvhTNGI4"
    },
    {
      "cell_type": "code",
      "source": [
        "!pip install catboost\n",
        "import catboost as cb\n",
        "from sklearn.datasets import load_digits\n",
        "from sklearn.model_selection import train_test_split\n",
        "\n",
        "# Загрузка данных\n",
        "data = load_digits()\n",
        "X = data.data\n",
        "y = data.target\n",
        "\n",
        "# Разбивка данных на обучающую и тестовую выборки\n",
        "X_train, X_test, y_train, y_test = train_test_split(X, y, test_size=0.2, random_state=42)\n",
        "\n",
        "# Создание модели CatBoost и обучение ее на обучающих данных\n",
        "catboost_model = cb.CatBoostClassifier(iterations=100, max_depth=5, random_state=42)\n",
        "catboost_model.fit(X_train, y_train)\n",
        "\n",
        "# Оценка качества модели на тестовых данных\n",
        "accuracy = catboost_model.score(X_test, y_test)\n",
        "print(\"Accuracy:\", accuracy)"
      ],
      "metadata": {
        "id": "h3tjIfhTIcpu"
      },
      "id": "h3tjIfhTIcpu",
      "execution_count": null,
      "outputs": []
    },
    {
      "cell_type": "code",
      "source": [],
      "metadata": {
        "id": "uw8Nu82vIcfv"
      },
      "id": "uw8Nu82vIcfv",
      "execution_count": null,
      "outputs": []
    },
    {
      "cell_type": "markdown",
      "source": [
        "# lightgbm"
      ],
      "metadata": {
        "id": "1vHyRiU-N8_D"
      },
      "id": "1vHyRiU-N8_D"
    },
    {
      "cell_type": "code",
      "source": [
        "!pip install lightgbm\n",
        "import lightgbm as lgb\n",
        "from sklearn.datasets import load_digits\n",
        "from sklearn.model_selection import train_test_split\n",
        "\n",
        "# Загрузка данных\n",
        "data = load_digits()\n",
        "X = data.data\n",
        "y = data.target\n",
        "\n",
        "# Разбивка данных на обучающую и тестовую выборки\n",
        "X_train, X_test, y_train, y_test = train_test_split(X, y, test_size=0.2, random_state=42)\n",
        "\n",
        "# Преобразование данных в объекты Dataset\n",
        "train_data = lgb.Dataset(X_train, label=y_train)\n",
        "test_data = lgb.Dataset(X_test, label=y_test)\n",
        "\n",
        "# Определение параметров модели\n",
        "params = {\n",
        "    \"objective\": \"multiclass\",\n",
        "    \"num_class\": 10,\n",
        "    \"metric\": \"multi_logloss\",\n",
        "    \"max_depth\": 5,\n",
        "    \"learning_rate\": 0.1,\n",
        "    \"seed\": 42\n",
        "}\n",
        "\n",
        "# Обучение модели\n",
        "num_rounds = 100\n",
        "lgb_model = lgb.train(params, train_data, num_rounds)\n",
        "\n",
        "# Оценка качества модели на тестовых данных\n",
        "y_pred = lgb_model.predict(X_test)\n",
        "best_preds = y_pred.argmax(axis=1)\n",
        "accuracy = (best_preds == y_test).mean()\n",
        "print(\"Accuracy:\", accuracy)"
      ],
      "metadata": {
        "id": "m3hMA4_eNkT4"
      },
      "id": "m3hMA4_eNkT4",
      "execution_count": null,
      "outputs": []
    }
  ],
  "metadata": {
    "colab": {
      "provenance": [],
      "include_colab_link": true
    },
    "kernelspec": {
      "display_name": "Python 3",
      "language": "python",
      "name": "python3"
    },
    "language_info": {
      "codemirror_mode": {
        "name": "ipython",
        "version": 3
      },
      "file_extension": ".py",
      "mimetype": "text/x-python",
      "name": "python",
      "nbconvert_exporter": "python",
      "pygments_lexer": "ipython3",
      "version": "3.8.8"
    }
  },
  "nbformat": 4,
  "nbformat_minor": 5
}