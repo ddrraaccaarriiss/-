{
  "cells": [
    {
      "cell_type": "markdown",
      "metadata": {
        "id": "view-in-github",
        "colab_type": "text"
      },
      "source": [
        "<a href=\"https://colab.research.google.com/github/ddrraaccaarriiss/Cramer/blob/master/%22B_F_%22.ipynb\" target=\"_parent\"><img src=\"https://colab.research.google.com/assets/colab-badge.svg\" alt=\"Open In Colab\"/></a>"
      ]
    },
    {
      "cell_type": "markdown",
      "source": [
        "В этом проекте на [Kaggle](https://www.kaggle.com/competitions/first-retail-model) было построено прогностическое моделирование покупок во время Черной пятницы, используя алгоритм случайного леса (RandomForestRegressor). Для этого был использован открытый набор данных с информацией об исторических продажах продуктов в различных категориях, а также социоэкономических данных о регионах, в которых были проведены эти продажи."
      ],
      "metadata": {
        "id": "Rln_gss6iLqT"
      },
      "id": "Rln_gss6iLqT"
    },
    {
      "cell_type": "markdown",
      "source": [
        "# RandomForestRegressor"
      ],
      "metadata": {
        "id": "Pleg0gnSiXMu"
      },
      "id": "Pleg0gnSiXMu"
    },
    {
      "cell_type": "code",
      "source": [
        "# импорт библиотек\n",
        "from sklearn.ensemble import RandomForestRegressor\n",
        "from sklearn.model_selection import train_test_split\n",
        "import pandas as pd\n",
        "import numpy as np"
      ],
      "metadata": {
        "id": "OgYMQt_ECMzQ"
      },
      "id": "OgYMQt_ECMzQ",
      "execution_count": null,
      "outputs": []
    },
    {
      "cell_type": "code",
      "source": [
        "# Загрузка данных\n",
        "test = pd.read_csv('black_friday_test.csv')\n",
        "data = pd.read_csv('black_friday_train.csv')\n",
        "X = data.drop([\"Purchase\"], axis=1)\n",
        "y = data[\"Purchase\"]"
      ],
      "metadata": {
        "id": "Yzlxg2r-CMwd"
      },
      "id": "Yzlxg2r-CMwd",
      "execution_count": null,
      "outputs": []
    },
    {
      "cell_type": "code",
      "source": [
        "# Разбивка данных на обучающую и тестовую выборки\n",
        "X_train, X_test, y_train, y_test = train_test_split(X, y, test_size=0.3, random_state=42)\n",
        "\n",
        "\n",
        "# обьявление модели и определение параметров\n",
        "n_estimators = 542\n",
        "max_depth = 9\n",
        "min_samples_split = 10\n",
        "min_samples_leaf = 2\n",
        "max_features = 'auto'\n",
        "\n",
        "model = RandomForestRegressor(n_estimators=n_estimators,\n",
        "                               max_depth=max_depth,\n",
        "                               min_samples_split=min_samples_split,\n",
        "                               min_samples_leaf=min_samples_leaf,\n",
        "                               max_features=max_features,\n",
        "                               random_state=42)"
      ],
      "metadata": {
        "id": "HuPcqVlJCMt2"
      },
      "id": "HuPcqVlJCMt2",
      "execution_count": null,
      "outputs": []
    },
    {
      "cell_type": "code",
      "source": [
        "# обучение ее на обучающих данных и засекеам время чтобы узнать сколько времени понадобилась на обучение\n",
        "import time\n",
        "\n",
        "start_time = time.perf_counter()\n",
        "\n",
        "model.fit(X_train, y_train)\n",
        "\n",
        "end_time = time.perf_counter()\n",
        "\n",
        "elapsed_time = end_time - start_time\n",
        "\n",
        "print(\"Elapsed time: {:.2f} seconds\".format(elapsed_time))"
      ],
      "metadata": {
        "colab": {
          "base_uri": "https://localhost:8080/"
        },
        "id": "ievkXKQ8CMrb",
        "outputId": "4b491798-9264-4693-af33-29f5a026fd3a"
      },
      "id": "ievkXKQ8CMrb",
      "execution_count": null,
      "outputs": [
        {
          "output_type": "stream",
          "name": "stderr",
          "text": [
            "/usr/local/lib/python3.10/dist-packages/sklearn/ensemble/_forest.py:413: FutureWarning: `max_features='auto'` has been deprecated in 1.1 and will be removed in 1.3. To keep the past behaviour, explicitly set `max_features=1.0` or remove this parameter as it is also the default value for RandomForestRegressors and ExtraTreesRegressors.\n",
            "  warn(\n"
          ]
        },
        {
          "output_type": "stream",
          "name": "stdout",
          "text": [
            "Elapsed time: 7.52 seconds\n"
          ]
        }
      ]
    },
    {
      "cell_type": "code",
      "source": [],
      "metadata": {
        "id": "HajgixmrVxcF"
      },
      "id": "HajgixmrVxcF",
      "execution_count": null,
      "outputs": []
    },
    {
      "cell_type": "markdown",
      "source": [
        "Оценка производительности на тестовом наборе данных"
      ],
      "metadata": {
        "id": "B2YP_174VrmS"
      },
      "id": "B2YP_174VrmS"
    },
    {
      "cell_type": "code",
      "source": [
        "# Средняя абсолютная ошибка (MAE)\n",
        "from sklearn.metrics import mean_absolute_error\n",
        "y_pred = model.predict(X_test)\n",
        "mae = mean_absolute_error(y_test, y_pred)\n",
        "print(\"MAE: \", mae)"
      ],
      "metadata": {
        "colab": {
          "base_uri": "https://localhost:8080/"
        },
        "id": "FXZIRqjNGtRv",
        "outputId": "75549721-5a5e-4097-de34-ab32f2daace0"
      },
      "id": "FXZIRqjNGtRv",
      "execution_count": null,
      "outputs": [
        {
          "output_type": "stream",
          "name": "stdout",
          "text": [
            "MAE:  2254.3564597730706\n"
          ]
        }
      ]
    },
    {
      "cell_type": "code",
      "source": [
        "# Среднеквадратическая ошибка (MSE)\n",
        "from sklearn.metrics import mean_squared_error\n",
        "y_pred = model.predict(X_test)\n",
        "mse = mean_squared_error(y_test, y_pred)\n",
        "print(\"MSE: \", mse)"
      ],
      "metadata": {
        "colab": {
          "base_uri": "https://localhost:8080/"
        },
        "id": "TfFyQhFPU7Se",
        "outputId": "8c04b69c-e2be-45bf-dc63-1aa6dd369110"
      },
      "id": "TfFyQhFPU7Se",
      "execution_count": null,
      "outputs": [
        {
          "output_type": "stream",
          "name": "stdout",
          "text": [
            "MSE:  8878648.623534441\n"
          ]
        }
      ]
    },
    {
      "cell_type": "code",
      "source": [
        "# Коэффициент детерминации (R2)\n",
        "from sklearn.metrics import r2_score\n",
        "y_pred = model.predict(X_test)\n",
        "r2 = r2_score(y_test, y_pred)\n",
        "print(\"R2: \", r2)"
      ],
      "metadata": {
        "colab": {
          "base_uri": "https://localhost:8080/"
        },
        "id": "4puQrYiyU2WN",
        "outputId": "d222780c-b444-432c-80bc-46eab2111288"
      },
      "id": "4puQrYiyU2WN",
      "execution_count": null,
      "outputs": [
        {
          "output_type": "stream",
          "name": "stdout",
          "text": [
            "R2:  0.6311289303066259\n"
          ]
        }
      ]
    },
    {
      "cell_type": "code",
      "source": [
        "# Средняя абсолютная процентная ошибка (MAPE)\n",
        "import numpy as np\n",
        "\n",
        "y_pred = model.predict(X_test)\n",
        "mape = np.mean(np.abs((y_test - y_pred) / y_test)) * 100\n",
        "print(\"MAPE: \", mape)"
      ],
      "metadata": {
        "colab": {
          "base_uri": "https://localhost:8080/"
        },
        "id": "MwzNFvl1WYUs",
        "outputId": "a9f8f6d4-71fd-41e3-c805-d068c4734e58"
      },
      "id": "MwzNFvl1WYUs",
      "execution_count": null,
      "outputs": [
        {
          "output_type": "stream",
          "name": "stdout",
          "text": [
            "MAPE:  34.435452009103514\n"
          ]
        }
      ]
    },
    {
      "cell_type": "code",
      "source": [
        "# предсказываем на тестовых данных\n",
        "predictions_ = model.predict(test)"
      ],
      "metadata": {
        "id": "DX_OywwnCMk5"
      },
      "id": "DX_OywwnCMk5",
      "execution_count": null,
      "outputs": []
    },
    {
      "cell_type": "code",
      "source": [
        "# записываем предсказание на submission_ датасет и загружаем на Kaggle\n",
        "submission_ = pd.DataFrame()\n",
        "submission_['id'] = test.index\n",
        "submission_['Purchase'] = predictions_\n",
        "submission_.to_csv('sample_submission_.csv', index=False)\n"
      ],
      "metadata": {
        "id": "8Y4WXxUFDhtO"
      },
      "id": "8Y4WXxUFDhtO",
      "execution_count": null,
      "outputs": []
    },
    {
      "cell_type": "code",
      "source": [],
      "metadata": {
        "id": "K2mdczoUKul7"
      },
      "id": "K2mdczoUKul7",
      "execution_count": null,
      "outputs": []
    },
    {
      "cell_type": "markdown",
      "source": [
        "# Decision trees"
      ],
      "metadata": {
        "id": "crTyhrHdJ6lw"
      },
      "id": "crTyhrHdJ6lw"
    },
    {
      "cell_type": "code",
      "source": [
        "from sklearn.tree import DecisionTreeRegressor\n",
        "from sklearn.model_selection import train_test_split\n",
        "from sklearn.metrics import mean_absolute_error\n",
        "import pandas as pd\n",
        "\n",
        "# Загрузка данных\n",
        "# test = pd.read_csv('black_friday_test.csv')\n",
        "data = pd.read_csv('black_friday_train.csv')\n",
        "X = data.drop([\"Purchase\"], axis=1)\n",
        "y = data[\"Purchase\"]\n",
        "\n",
        "# Разбивка данных на обучающую и тестовую выборки\n",
        "X_train, X_test, y_train, y_test = train_test_split(X, y, test_size=0.2, random_state=42)\n",
        "\n",
        "# Создание модели Дерева решений и обучение ее на обучающих данных\n",
        "dt_model = DecisionTreeRegressor(max_depth=3, random_state=42)\n",
        "dt_model.fit(X_train, y_train)\n",
        "\n",
        "# Оценка качества модели на тестовых данных\n",
        "mae = mean_absolute_error(y_test, dt_model.predict(X_test))\n",
        "print(\"Mean Absolute Error:\", mae)"
      ],
      "metadata": {
        "colab": {
          "base_uri": "https://localhost:8080/"
        },
        "id": "ziNEXdP9IczT",
        "outputId": "cbfe468a-27fe-47c7-e16a-9653ec7960ce"
      },
      "id": "ziNEXdP9IczT",
      "execution_count": null,
      "outputs": [
        {
          "output_type": "stream",
          "name": "stdout",
          "text": [
            "Mean Absolute Error: 2904.9270510353717\n"
          ]
        }
      ]
    },
    {
      "cell_type": "code",
      "source": [],
      "metadata": {
        "id": "PoAZWXbqLjVT"
      },
      "id": "PoAZWXbqLjVT",
      "execution_count": null,
      "outputs": []
    },
    {
      "cell_type": "markdown",
      "source": [
        "# LinearRegression"
      ],
      "metadata": {
        "id": "M8K4wckKahEo"
      },
      "id": "M8K4wckKahEo"
    },
    {
      "cell_type": "code",
      "source": [
        "from sklearn.linear_model import LinearRegression\n",
        "from sklearn.metrics import mean_absolute_error\n",
        "from sklearn.metrics import r2_score\n",
        "\n",
        "# Создаем объект модели\n",
        "model = LinearRegression()\n",
        "\n",
        "# Обучаем модель на данных X и y\n",
        "model.fit(X_train, y_train)\n",
        "\n",
        "# Получаем предсказания на данных X\n",
        "y_pred = model.predict(X_test)\n",
        "\n",
        "# Средняя абсолютная ошибка (MAE)\n",
        "mae = mean_absolute_error(y_test, y_pred)\n",
        "print(\"MAE: \", mae)\n",
        "\n",
        "# Коэффициент детерминации (R2)\n",
        "r2 = r2_score(y_test, y_pred)\n",
        "print(\"R2: \", r2)\n"
      ],
      "metadata": {
        "colab": {
          "base_uri": "https://localhost:8080/"
        },
        "id": "ewHLLnFMZ7Fb",
        "outputId": "1df3fccf-267c-46ad-8cf6-30a5fd369a31"
      },
      "id": "ewHLLnFMZ7Fb",
      "execution_count": null,
      "outputs": [
        {
          "output_type": "stream",
          "name": "stdout",
          "text": [
            "MAE:  3547.5173161513535\n",
            "R2:  0.11467437809829528\n"
          ]
        }
      ]
    },
    {
      "cell_type": "markdown",
      "source": [
        "# GradientBoostingRegressor\n",
        "\n"
      ],
      "metadata": {
        "id": "kKGBElfoLarC"
      },
      "id": "kKGBElfoLarC"
    },
    {
      "cell_type": "code",
      "source": [
        "from sklearn.datasets import load_digits\n",
        "from sklearn.ensemble import GradientBoostingRegressor\n",
        "from sklearn.model_selection import train_test_split\n",
        "\n",
        "# Загрузка данных\n",
        "data = pd.read_csv('black_friday_train.csv')\n",
        "X = data.drop([\"Purchase\"], axis=1)\n",
        "y = data[\"Purchase\"]\n",
        "\n",
        "# Разбивка данных на обучающую и тестовую выборки\n",
        "X_train, X_test, y_train, y_test = train_test_split(X, y, test_size=0.2, random_state=42)\n",
        "\n",
        "# Создание модели Gradient Boosting Regressor и обучение ее на обучающих данных\n",
        "gb_model = GradientBoostingRegressor(n_estimators=100, learning_rate=0.1, max_depth=3, random_state=42)\n",
        "gb_model.fit(X_train, y_train)\n",
        "\n",
        "# Оценка качества модели на тестовых данных\n",
        "mae = mean_absolute_error(y_test, gb_model.predict(X_test))\n",
        "print(\"Mean Absolute Error:\", mae)"
      ],
      "metadata": {
        "id": "BVmzgJweDxkW",
        "colab": {
          "base_uri": "https://localhost:8080/"
        },
        "outputId": "48f2dfb4-08ab-487b-d349-8b09a843199e"
      },
      "id": "BVmzgJweDxkW",
      "execution_count": null,
      "outputs": [
        {
          "output_type": "stream",
          "name": "stdout",
          "text": [
            "Mean Absolute Error: 2306.7252602106923\n"
          ]
        }
      ]
    },
    {
      "cell_type": "markdown",
      "source": [
        "# xgboost"
      ],
      "metadata": {
        "id": "wm8_A5ojL-U-"
      },
      "id": "wm8_A5ojL-U-"
    },
    {
      "cell_type": "code",
      "source": [
        "!pip install xgboost\n",
        "import pandas as pd\n",
        "from xgboost import XGBRegressor\n",
        "from sklearn.metrics import mean_squared_error\n",
        "from sklearn.metrics import r2_score\n",
        "\n",
        "# Создаем модель\n",
        "model = XGBRegressor()\n",
        "\n",
        "# Обучаем модель на обучающей выборке\n",
        "model.fit(X_train, y_train)\n",
        "\n",
        "# Получаем предсказания на тестовой выборке\n",
        "y_pred = model.predict(X_test)\n",
        "\n",
        "# Вычисляем среднеквадратичную ошибку\n",
        "mse = mean_squared_error(y_test, y_pred)\n",
        "print(f\"Среднеквадратичная ошибка: {mse:.2f}\")\n",
        "\n",
        "# Коэффициент детерминации (R2)\n",
        "r2 = r2_score(y_test, y_pred)\n",
        "print(\"R2: \", r2)\n"
      ],
      "metadata": {
        "id": "TsQ7arvSIct9",
        "colab": {
          "base_uri": "https://localhost:8080/"
        },
        "outputId": "3e4148bd-ae26-46d8-a34b-e69e02a50dd0"
      },
      "id": "TsQ7arvSIct9",
      "execution_count": null,
      "outputs": [
        {
          "output_type": "stream",
          "name": "stdout",
          "text": [
            "Looking in indexes: https://pypi.org/simple, https://us-python.pkg.dev/colab-wheels/public/simple/\n",
            "Requirement already satisfied: xgboost in /usr/local/lib/python3.10/dist-packages (1.7.5)\n",
            "Requirement already satisfied: numpy in /usr/local/lib/python3.10/dist-packages (from xgboost) (1.22.4)\n",
            "Requirement already satisfied: scipy in /usr/local/lib/python3.10/dist-packages (from xgboost) (1.10.1)\n",
            "Среднеквадратичная ошибка: 9488315.28\n",
            "R2:  0.6144439334003837\n"
          ]
        }
      ]
    },
    {
      "cell_type": "code",
      "source": [],
      "metadata": {
        "id": "BG-uWbMgIcr4",
        "colab": {
          "base_uri": "https://localhost:8080/"
        },
        "outputId": "fee513f1-2c6b-4a23-eba2-fbc6f6a7b21c"
      },
      "id": "BG-uWbMgIcr4",
      "execution_count": null,
      "outputs": [
        {
          "output_type": "stream",
          "name": "stdout",
          "text": [
            "R2:  0.6144439334003837\n"
          ]
        }
      ]
    },
    {
      "cell_type": "markdown",
      "source": [
        "# catboost"
      ],
      "metadata": {
        "id": "k1OUBvhTNGI4"
      },
      "id": "k1OUBvhTNGI4"
    },
    {
      "cell_type": "code",
      "source": [
        "!pip install catboost\n",
        "import pandas as pd\n",
        "from catboost import CatBoostRegressor\n",
        "from sklearn.metrics import mean_absolute_error\n",
        "from sklearn.model_selection import train_test_split\n",
        "\n",
        "# Загрузка данных\n",
        "data = pd.read_csv('black_friday_train.csv')\n",
        "X = data.drop([\"Purchase\"], axis=1)\n",
        "y = data[\"Purchase\"]\n",
        "\n",
        "# Разбивка данных на обучающую и тестовую выборки\n",
        "X_train, X_test, y_train, y_test = train_test_split(X, y, test_size=0.2, random_state=42)\n",
        "\n",
        "# Создание и обучение модели CatBoost на обучающих данных\n",
        "cat_model = CatBoostRegressor(iterations=100, learning_rate=0.1, depth=5, loss_function='MAE', random_seed=42)\n",
        "cat_model.fit(X_train, y_train, verbose=False)\n",
        "\n",
        "# Оценка качества модели на тестовых данных\n",
        "y_pred = cat_model.predict(X_test)\n",
        "mae = mean_absolute_error(y_test, y_pred)\n",
        "print(\"Mean Absolute Error:\", mae)\n",
        "\n",
        "# Коэффициент детерминации (R2)\n",
        "r2 = r2_score(y_test, y_pred)\n",
        "print(\"R2: \", r2)"
      ],
      "metadata": {
        "id": "h3tjIfhTIcpu",
        "colab": {
          "base_uri": "https://localhost:8080/"
        },
        "outputId": "3d1f3d54-743e-4d4e-99ab-57e8b28f61f4"
      },
      "id": "h3tjIfhTIcpu",
      "execution_count": null,
      "outputs": [
        {
          "output_type": "stream",
          "name": "stdout",
          "text": [
            "Looking in indexes: https://pypi.org/simple, https://us-python.pkg.dev/colab-wheels/public/simple/\n",
            "Collecting catboost\n",
            "  Downloading catboost-1.2-cp310-cp310-manylinux2014_x86_64.whl (98.6 MB)\n",
            "\u001b[2K     \u001b[90m━━━━━━━━━━━━━━━━━━━━━━━━━━━━━━━━━━━━━━━━\u001b[0m \u001b[32m98.6/98.6 MB\u001b[0m \u001b[31m7.8 MB/s\u001b[0m eta \u001b[36m0:00:00\u001b[0m\n",
            "\u001b[?25hRequirement already satisfied: graphviz in /usr/local/lib/python3.10/dist-packages (from catboost) (0.20.1)\n",
            "Requirement already satisfied: matplotlib in /usr/local/lib/python3.10/dist-packages (from catboost) (3.7.1)\n",
            "Requirement already satisfied: numpy>=1.16.0 in /usr/local/lib/python3.10/dist-packages (from catboost) (1.22.4)\n",
            "Requirement already satisfied: pandas>=0.24 in /usr/local/lib/python3.10/dist-packages (from catboost) (1.5.3)\n",
            "Requirement already satisfied: scipy in /usr/local/lib/python3.10/dist-packages (from catboost) (1.10.1)\n",
            "Requirement already satisfied: plotly in /usr/local/lib/python3.10/dist-packages (from catboost) (5.13.1)\n",
            "Requirement already satisfied: six in /usr/local/lib/python3.10/dist-packages (from catboost) (1.16.0)\n",
            "Requirement already satisfied: python-dateutil>=2.8.1 in /usr/local/lib/python3.10/dist-packages (from pandas>=0.24->catboost) (2.8.2)\n",
            "Requirement already satisfied: pytz>=2020.1 in /usr/local/lib/python3.10/dist-packages (from pandas>=0.24->catboost) (2022.7.1)\n",
            "Requirement already satisfied: contourpy>=1.0.1 in /usr/local/lib/python3.10/dist-packages (from matplotlib->catboost) (1.0.7)\n",
            "Requirement already satisfied: cycler>=0.10 in /usr/local/lib/python3.10/dist-packages (from matplotlib->catboost) (0.11.0)\n",
            "Requirement already satisfied: fonttools>=4.22.0 in /usr/local/lib/python3.10/dist-packages (from matplotlib->catboost) (4.39.3)\n",
            "Requirement already satisfied: kiwisolver>=1.0.1 in /usr/local/lib/python3.10/dist-packages (from matplotlib->catboost) (1.4.4)\n",
            "Requirement already satisfied: packaging>=20.0 in /usr/local/lib/python3.10/dist-packages (from matplotlib->catboost) (23.1)\n",
            "Requirement already satisfied: pillow>=6.2.0 in /usr/local/lib/python3.10/dist-packages (from matplotlib->catboost) (8.4.0)\n",
            "Requirement already satisfied: pyparsing>=2.3.1 in /usr/local/lib/python3.10/dist-packages (from matplotlib->catboost) (3.0.9)\n",
            "Requirement already satisfied: tenacity>=6.2.0 in /usr/local/lib/python3.10/dist-packages (from plotly->catboost) (8.2.2)\n",
            "Installing collected packages: catboost\n",
            "Successfully installed catboost-1.2\n",
            "Mean Absolute Error: 2273.814219587568\n",
            "R2:  0.5998194360326121\n"
          ]
        }
      ]
    },
    {
      "cell_type": "markdown",
      "source": [
        "# lightgbm"
      ],
      "metadata": {
        "id": "1vHyRiU-N8_D"
      },
      "id": "1vHyRiU-N8_D"
    },
    {
      "cell_type": "code",
      "source": [
        "!pip install lightgbm\n",
        "from lightgbm import LGBMRegressor\n",
        "from sklearn.model_selection import train_test_split\n",
        "from sklearn.metrics import mean_squared_error\n",
        "\n",
        "# Разделяем данные на обучающую и тестовую выборки\n",
        "X_train, X_test, y_train, y_test = train_test_split(X, y, test_size=0.2, random_state=42)\n",
        "\n",
        "# Создаем модель\n",
        "model = LGBMRegressor()\n",
        "\n",
        "# Обучаем модель на обучающей выборке\n",
        "model.fit(X_train, y_train)\n",
        "\n",
        "# Получаем предсказания на тестовой выборке\n",
        "y_pred = model.predict(X_test)\n",
        "\n",
        "# Вычисляем среднеквадратичную ошибку\n",
        "mse = mean_squared_error(y_test, y_pred)\n",
        "print(f\"Среднеквадратичная ошибка: {mse:.2f}\")\n",
        "\n",
        "# Коэффициент детерминации (R2)\n",
        "r2 = r2_score(y_test, y_pred)\n",
        "print(\"R2: \", r2)"
      ],
      "metadata": {
        "colab": {
          "base_uri": "https://localhost:8080/"
        },
        "id": "SSLtRPGYoQuQ",
        "outputId": "8529d308-61cc-4426-af90-e9ec065acb08"
      },
      "id": "SSLtRPGYoQuQ",
      "execution_count": null,
      "outputs": [
        {
          "output_type": "stream",
          "name": "stdout",
          "text": [
            "Среднеквадратичная ошибка: 9026392.82\n",
            "R2:  0.6332140734611444\n"
          ]
        }
      ]
    }
  ],
  "metadata": {
    "colab": {
      "provenance": [],
      "include_colab_link": true
    },
    "kernelspec": {
      "display_name": "Python 3",
      "language": "python",
      "name": "python3"
    },
    "language_info": {
      "codemirror_mode": {
        "name": "ipython",
        "version": 3
      },
      "file_extension": ".py",
      "mimetype": "text/x-python",
      "name": "python",
      "nbconvert_exporter": "python",
      "pygments_lexer": "ipython3",
      "version": "3.8.8"
    }
  },
  "nbformat": 4,
  "nbformat_minor": 5
}