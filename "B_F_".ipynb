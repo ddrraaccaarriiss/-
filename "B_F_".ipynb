{
  "cells": [
    {
      "cell_type": "markdown",
      "metadata": {
        "id": "view-in-github",
        "colab_type": "text"
      },
      "source": [
        "<a href=\"https://colab.research.google.com/github/ddrraaccaarriiss/Cramer/blob/master/%22B_F_%22.ipynb\" target=\"_parent\"><img src=\"https://colab.research.google.com/assets/colab-badge.svg\" alt=\"Open In Colab\"/></a>"
      ]
    },
    {
      "cell_type": "markdown",
      "source": [
        "В этом проекте на [Kaggle](https://www.kaggle.com/competitions/first-retail-model) было построено прогностическое моделирование покупок во время Черной пятницы, используя алгоритм случайного леса (RandomForestRegressor). Для этого был использован открытый набор данных с информацией об исторических продажах продуктов в различных категориях, а также социоэкономических данных о регионах, в которых были проведены эти продажи."
      ],
      "metadata": {
        "id": "Rln_gss6iLqT"
      },
      "id": "Rln_gss6iLqT"
    },
    {
      "cell_type": "markdown",
      "source": [
        "# RandomForestRegressor"
      ],
      "metadata": {
        "id": "Pleg0gnSiXMu"
      },
      "id": "Pleg0gnSiXMu"
    },
    {
      "cell_type": "code",
      "source": [
        "# импорт библиотек\n",
        "from sklearn.ensemble import RandomForestRegressor\n",
        "from sklearn.model_selection import train_test_split\n",
        "import pandas as pd\n",
        "import numpy as np"
      ],
      "metadata": {
        "id": "OgYMQt_ECMzQ"
      },
      "id": "OgYMQt_ECMzQ",
      "execution_count": 1,
      "outputs": []
    },
    {
      "cell_type": "code",
      "source": [
        "# Загрузка данных\n",
        "test = pd.read_csv('black_friday_test.csv')\n",
        "data = pd.read_csv('black_friday_train.csv')\n",
        "X = data.drop([\"Purchase\"], axis=1)\n",
        "y = data[\"Purchase\"]"
      ],
      "metadata": {
        "id": "Yzlxg2r-CMwd"
      },
      "id": "Yzlxg2r-CMwd",
      "execution_count": 2,
      "outputs": []
    },
    {
      "cell_type": "code",
      "source": [
        "# Разбивка данных на обучающую и тестовую выборки\n",
        "X_train, X_test, y_train, y_test = train_test_split(X, y, test_size=0.3, random_state=42)\n",
        "\n",
        "\n",
        "# обьявление модели и определение параметров\n",
        "n_estimators = 542\n",
        "max_depth = 9\n",
        "min_samples_split = 10\n",
        "min_samples_leaf = 2\n",
        "max_features = 'auto'\n",
        "\n",
        "model = RandomForestRegressor(n_estimators=n_estimators,\n",
        "                               max_depth=max_depth,\n",
        "                               min_samples_split=min_samples_split,\n",
        "                               min_samples_leaf=min_samples_leaf,\n",
        "                               max_features=max_features,\n",
        "                               random_state=42)"
      ],
      "metadata": {
        "id": "HuPcqVlJCMt2"
      },
      "id": "HuPcqVlJCMt2",
      "execution_count": 4,
      "outputs": []
    },
    {
      "cell_type": "code",
      "source": [
        "# обучение ее на обучающих данных и засекеам время чтобы узнать сколько времени понадобилась на обучение\n",
        "import time\n",
        "\n",
        "start_time = time.perf_counter()\n",
        "\n",
        "model.fit(X_train, y_train)\n",
        "\n",
        "end_time = time.perf_counter()\n",
        "\n",
        "elapsed_time = end_time - start_time\n",
        "\n",
        "print(\"Elapsed time: {:.2f} seconds\".format(elapsed_time))"
      ],
      "metadata": {
        "colab": {
          "base_uri": "https://localhost:8080/"
        },
        "id": "ievkXKQ8CMrb",
        "outputId": "88ad8feb-624e-40a0-fa14-58ddb13d03ec"
      },
      "id": "ievkXKQ8CMrb",
      "execution_count": 5,
      "outputs": [
        {
          "output_type": "stream",
          "name": "stderr",
          "text": [
            "/usr/local/lib/python3.10/dist-packages/sklearn/ensemble/_forest.py:413: FutureWarning: `max_features='auto'` has been deprecated in 1.1 and will be removed in 1.3. To keep the past behaviour, explicitly set `max_features=1.0` or remove this parameter as it is also the default value for RandomForestRegressors and ExtraTreesRegressors.\n",
            "  warn(\n"
          ]
        },
        {
          "output_type": "stream",
          "name": "stdout",
          "text": [
            "Elapsed time: 8.94 seconds\n"
          ]
        }
      ]
    },
    {
      "cell_type": "code",
      "source": [],
      "metadata": {
        "id": "HajgixmrVxcF"
      },
      "id": "HajgixmrVxcF",
      "execution_count": null,
      "outputs": []
    },
    {
      "cell_type": "code",
      "source": [
        "# Корень из среднеквадратичной ошибки (RMSE)\n",
        "from sklearn.metrics import mean_squared_error\n",
        "y_pred = model.predict(X_test)\n",
        "rmse = mean_squared_error(y_test, y_pred, squared=False)\n",
        "print(f\"(RMSE): {rmse:.2f}\")"
      ],
      "metadata": {
        "colab": {
          "base_uri": "https://localhost:8080/"
        },
        "id": "9iIzqwW34rzB",
        "outputId": "b806964f-e522-46e7-c5f3-1371665601be"
      },
      "id": "9iIzqwW34rzB",
      "execution_count": 13,
      "outputs": [
        {
          "output_type": "stream",
          "name": "stdout",
          "text": [
            "(RMSE): 2979.71\n"
          ]
        }
      ]
    },
    {
      "cell_type": "markdown",
      "source": [
        "Оценка производительности на тестовом наборе данных"
      ],
      "metadata": {
        "id": "B2YP_174VrmS"
      },
      "id": "B2YP_174VrmS"
    },
    {
      "cell_type": "code",
      "source": [
        "# Средняя абсолютная ошибка (MAE)\n",
        "from sklearn.metrics import mean_absolute_error\n",
        "y_pred = model.predict(X_test)\n",
        "mae = mean_absolute_error(y_test, y_pred)\n",
        "print(\"MAE: \", mae)"
      ],
      "metadata": {
        "colab": {
          "base_uri": "https://localhost:8080/"
        },
        "id": "FXZIRqjNGtRv",
        "outputId": "ead6622a-d4bf-4984-dee8-ea5e0a771191"
      },
      "id": "FXZIRqjNGtRv",
      "execution_count": 6,
      "outputs": [
        {
          "output_type": "stream",
          "name": "stdout",
          "text": [
            "MAE:  2254.3564597730706\n"
          ]
        }
      ]
    },
    {
      "cell_type": "code",
      "source": [
        "# Среднеквадратическая ошибка (MSE)\n",
        "from sklearn.metrics import mean_squared_error\n",
        "y_pred = model.predict(X_test)\n",
        "mse = mean_squared_error(y_test, y_pred)\n",
        "print(\"MSE: \", mse)"
      ],
      "metadata": {
        "colab": {
          "base_uri": "https://localhost:8080/"
        },
        "id": "TfFyQhFPU7Se",
        "outputId": "0b0d77e6-9c22-49b6-c3e7-d953f5013bb4"
      },
      "id": "TfFyQhFPU7Se",
      "execution_count": 7,
      "outputs": [
        {
          "output_type": "stream",
          "name": "stdout",
          "text": [
            "MSE:  8878648.623534441\n"
          ]
        }
      ]
    },
    {
      "cell_type": "code",
      "source": [
        "# Коэффициент детерминации (R2)\n",
        "from sklearn.metrics import r2_score\n",
        "y_pred = model.predict(X_test)\n",
        "r2 = r2_score(y_test, y_pred)\n",
        "print(\"R2: \", r2)"
      ],
      "metadata": {
        "colab": {
          "base_uri": "https://localhost:8080/"
        },
        "id": "4puQrYiyU2WN",
        "outputId": "25935c22-0366-4418-b093-bad51c65227f"
      },
      "id": "4puQrYiyU2WN",
      "execution_count": 8,
      "outputs": [
        {
          "output_type": "stream",
          "name": "stdout",
          "text": [
            "R2:  0.6311289303066259\n"
          ]
        }
      ]
    },
    {
      "cell_type": "code",
      "source": [
        "# Средняя абсолютная процентная ошибка (MAPE)\n",
        "import numpy as np\n",
        "\n",
        "y_pred = model.predict(X_test)\n",
        "mape = np.mean(np.abs((y_test - y_pred) / y_test)) * 100\n",
        "print(\"MAPE: \", mape)"
      ],
      "metadata": {
        "colab": {
          "base_uri": "https://localhost:8080/"
        },
        "id": "MwzNFvl1WYUs",
        "outputId": "0ca85838-ee76-46a1-eee3-dab99df501d1"
      },
      "id": "MwzNFvl1WYUs",
      "execution_count": 9,
      "outputs": [
        {
          "output_type": "stream",
          "name": "stdout",
          "text": [
            "MAPE:  34.435452009103514\n"
          ]
        }
      ]
    },
    {
      "cell_type": "code",
      "source": [
        "# предсказываем на тестовых данных\n",
        "predictions_ = model.predict(test)"
      ],
      "metadata": {
        "id": "DX_OywwnCMk5"
      },
      "id": "DX_OywwnCMk5",
      "execution_count": null,
      "outputs": []
    },
    {
      "cell_type": "code",
      "source": [
        "# записываем предсказание на submission_ датасет и загружаем на Kaggle\n",
        "submission_ = pd.DataFrame()\n",
        "submission_['id'] = test.index\n",
        "submission_['Purchase'] = predictions_\n",
        "submission_.to_csv('sample_submission_.csv', index=False)\n"
      ],
      "metadata": {
        "id": "8Y4WXxUFDhtO"
      },
      "id": "8Y4WXxUFDhtO",
      "execution_count": null,
      "outputs": []
    },
    {
      "cell_type": "code",
      "source": [],
      "metadata": {
        "id": "K2mdczoUKul7"
      },
      "id": "K2mdczoUKul7",
      "execution_count": null,
      "outputs": []
    },
    {
      "cell_type": "markdown",
      "source": [
        "# Decision trees"
      ],
      "metadata": {
        "id": "crTyhrHdJ6lw"
      },
      "id": "crTyhrHdJ6lw"
    },
    {
      "cell_type": "code",
      "source": [
        "from sklearn.tree import DecisionTreeRegressor\n",
        "from sklearn.model_selection import train_test_split\n",
        "from sklearn.metrics import mean_absolute_error\n",
        "import pandas as pd\n",
        "\n",
        "# Загрузка данных\n",
        "# test = pd.read_csv('black_friday_test.csv')\n",
        "data = pd.read_csv('black_friday_train.csv')\n",
        "X = data.drop([\"Purchase\"], axis=1)\n",
        "y = data[\"Purchase\"]\n",
        "\n",
        "# Разбивка данных на обучающую и тестовую выборки\n",
        "X_train, X_test, y_train, y_test = train_test_split(X, y, test_size=0.2, random_state=42)\n",
        "\n",
        "# Создание модели Дерева решений и обучение ее на обучающих данных\n",
        "dt_model = DecisionTreeRegressor(max_depth=3, random_state=42)\n",
        "dt_model.fit(X_train, y_train)\n",
        "\n",
        "# Оценка качества модели на тестовых данных\n",
        "mae = mean_absolute_error(y_test, dt_model.predict(X_test))\n",
        "print(\"Mean Absolute Error:\", mae)\n",
        "\n",
        "# Корень из среднеквадратичной ошибки (RMSE)\n",
        "y_pred = dt_model.predict(X_test)\n",
        "rmse = mean_squared_error(y_test, y_pred, squared=False)\n",
        "print(f\"(RMSE): {rmse:.2f}\")"
      ],
      "metadata": {
        "colab": {
          "base_uri": "https://localhost:8080/"
        },
        "id": "ziNEXdP9IczT",
        "outputId": "e2e79b40-32d0-4ee0-961d-502956017772"
      },
      "id": "ziNEXdP9IczT",
      "execution_count": 14,
      "outputs": [
        {
          "output_type": "stream",
          "name": "stdout",
          "text": [
            "Mean Absolute Error: 2904.9270510353717\n",
            "(RMSE): 3880.83\n"
          ]
        }
      ]
    },
    {
      "cell_type": "code",
      "source": [],
      "metadata": {
        "id": "PoAZWXbqLjVT"
      },
      "id": "PoAZWXbqLjVT",
      "execution_count": null,
      "outputs": []
    },
    {
      "cell_type": "markdown",
      "source": [
        "# LinearRegression"
      ],
      "metadata": {
        "id": "M8K4wckKahEo"
      },
      "id": "M8K4wckKahEo"
    },
    {
      "cell_type": "code",
      "source": [
        "from sklearn.linear_model import LinearRegression\n",
        "from sklearn.metrics import mean_absolute_error\n",
        "from sklearn.metrics import r2_score\n",
        "\n",
        "# Создаем объект модели\n",
        "lr_model = LinearRegression()\n",
        "\n",
        "# Обучаем модель на данных X и y\n",
        "lr_model.fit(X_train, y_train)\n",
        "\n",
        "# Получаем предсказания на данных X\n",
        "y_pred = lr_model.predict(X_test)\n",
        "\n",
        "# Средняя абсолютная ошибка (MAE)\n",
        "mae = mean_absolute_error(y_test, y_pred)\n",
        "print(\"MAE: \", mae)\n",
        "\n",
        "# Коэффициент детерминации (R2)\n",
        "r2 = r2_score(y_test, y_pred)\n",
        "print(\"R2: \", r2)\n",
        "\n",
        "# Корень из среднеквадратичной ошибки (RMSE)\n",
        "y_pred = lr_model.predict(X_test)\n",
        "rmse = mean_squared_error(y_test, y_pred, squared=False)\n",
        "print(f\"(RMSE): {rmse:.2f}\")\n"
      ],
      "metadata": {
        "colab": {
          "base_uri": "https://localhost:8080/"
        },
        "id": "ewHLLnFMZ7Fb",
        "outputId": "0777f006-aa48-4d99-e112-3ae74ed98b99"
      },
      "id": "ewHLLnFMZ7Fb",
      "execution_count": 15,
      "outputs": [
        {
          "output_type": "stream",
          "name": "stdout",
          "text": [
            "MAE:  3547.5173161513535\n",
            "R2:  0.11467437809829528\n",
            "(RMSE): 4667.69\n"
          ]
        }
      ]
    },
    {
      "cell_type": "markdown",
      "source": [
        "# GradientBoostingRegressor\n",
        "\n"
      ],
      "metadata": {
        "id": "kKGBElfoLarC"
      },
      "id": "kKGBElfoLarC"
    },
    {
      "cell_type": "code",
      "source": [
        "from sklearn.datasets import load_digits\n",
        "from sklearn.ensemble import GradientBoostingRegressor\n",
        "from sklearn.model_selection import train_test_split\n",
        "\n",
        "# Загрузка данных\n",
        "data = pd.read_csv('black_friday_train.csv')\n",
        "X = data.drop([\"Purchase\"], axis=1)\n",
        "y = data[\"Purchase\"]\n",
        "\n",
        "# Разбивка данных на обучающую и тестовую выборки\n",
        "X_train, X_test, y_train, y_test = train_test_split(X, y, test_size=0.2, random_state=42)\n",
        "\n",
        "# Создание модели Gradient Boosting Regressor и обучение ее на обучающих данных\n",
        "gb_model = GradientBoostingRegressor(n_estimators=100, learning_rate=0.1, max_depth=3, random_state=42)\n",
        "gb_model.fit(X_train, y_train)\n",
        "\n",
        "# Оценка качества модели на тестовых данных\n",
        "mae = mean_absolute_error(y_test, gb_model.predict(X_test))\n",
        "print(\"Mean Absolute Error:\", mae)\n",
        "\n",
        "# Корень из среднеквадратичной ошибки (RMSE)\n",
        "y_pred = gb_model.predict(X_test)\n",
        "rmse = mean_squared_error(y_test, y_pred, squared=False)\n",
        "print(f\"(RMSE): {rmse:.2f}\")"
      ],
      "metadata": {
        "id": "BVmzgJweDxkW",
        "colab": {
          "base_uri": "https://localhost:8080/"
        },
        "outputId": "07c8af38-166f-4d9f-f0c8-64ba9bae8b02"
      },
      "id": "BVmzgJweDxkW",
      "execution_count": 16,
      "outputs": [
        {
          "output_type": "stream",
          "name": "stdout",
          "text": [
            "Mean Absolute Error: 2306.7252602106923\n",
            "(RMSE): 3013.02\n"
          ]
        }
      ]
    },
    {
      "cell_type": "markdown",
      "source": [
        "# xgboost"
      ],
      "metadata": {
        "id": "wm8_A5ojL-U-"
      },
      "id": "wm8_A5ojL-U-"
    },
    {
      "cell_type": "code",
      "source": [
        "!pip install xgboost\n",
        "import pandas as pd\n",
        "from xgboost import XGBRegressor\n",
        "from sklearn.metrics import mean_squared_error\n",
        "from sklearn.metrics import r2_score\n",
        "\n",
        "# Создаем модель\n",
        "model = XGBRegressor()\n",
        "\n",
        "# Обучаем модель на обучающей выборке\n",
        "model.fit(X_train, y_train)\n",
        "\n",
        "# Получаем предсказания на тестовой выборке\n",
        "y_pred = model.predict(X_test)\n",
        "\n",
        "# Вычисляем среднеквадратичную ошибку\n",
        "mse = mean_squared_error(y_test, y_pred)\n",
        "print(f\"Среднеквадратичная ошибка: {mse:.2f}\")\n",
        "\n",
        "# Коэффициент детерминации (R2)\n",
        "r2 = r2_score(y_test, y_pred)\n",
        "print(\"R2: \", r2)\n",
        "\n",
        "# Корень из среднеквадратичной ошибки (RMSE)\n",
        "y_pred = model.predict(X_test)\n",
        "rmse = mean_squared_error(y_test, y_pred, squared=False)\n",
        "print(f\"(RMSE): {rmse:.2f}\")\n"
      ],
      "metadata": {
        "id": "TsQ7arvSIct9",
        "colab": {
          "base_uri": "https://localhost:8080/"
        },
        "outputId": "e5716741-a302-4b0d-f257-4b5310bdd4e8"
      },
      "id": "TsQ7arvSIct9",
      "execution_count": 17,
      "outputs": [
        {
          "output_type": "stream",
          "name": "stdout",
          "text": [
            "Looking in indexes: https://pypi.org/simple, https://us-python.pkg.dev/colab-wheels/public/simple/\n",
            "Requirement already satisfied: xgboost in /usr/local/lib/python3.10/dist-packages (1.7.5)\n",
            "Requirement already satisfied: numpy in /usr/local/lib/python3.10/dist-packages (from xgboost) (1.22.4)\n",
            "Requirement already satisfied: scipy in /usr/local/lib/python3.10/dist-packages (from xgboost) (1.10.1)\n",
            "Среднеквадратичная ошибка: 9488315.28\n",
            "R2:  0.6144439334003837\n",
            "(RMSE): 3080.31\n"
          ]
        }
      ]
    },
    {
      "cell_type": "code",
      "source": [],
      "metadata": {
        "id": "BG-uWbMgIcr4"
      },
      "id": "BG-uWbMgIcr4",
      "execution_count": 17,
      "outputs": []
    },
    {
      "cell_type": "markdown",
      "source": [
        "# catboost"
      ],
      "metadata": {
        "id": "k1OUBvhTNGI4"
      },
      "id": "k1OUBvhTNGI4"
    },
    {
      "cell_type": "code",
      "source": [
        "!pip install catboost\n",
        "import pandas as pd\n",
        "from catboost import CatBoostRegressor\n",
        "from sklearn.metrics import mean_absolute_error\n",
        "from sklearn.model_selection import train_test_split\n",
        "\n",
        "# Загрузка данных\n",
        "data = pd.read_csv('black_friday_train.csv')\n",
        "X = data.drop([\"Purchase\"], axis=1)\n",
        "y = data[\"Purchase\"]\n",
        "\n",
        "# Разбивка данных на обучающую и тестовую выборки\n",
        "X_train, X_test, y_train, y_test = train_test_split(X, y, test_size=0.2, random_state=42)\n",
        "\n",
        "# Создание и обучение модели CatBoost на обучающих данных\n",
        "cat_model = CatBoostRegressor(iterations=100, learning_rate=0.1, depth=5, loss_function='MAE', random_seed=42)\n",
        "cat_model.fit(X_train, y_train, verbose=False)\n",
        "\n",
        "# Оценка качества модели на тестовых данных\n",
        "y_pred = cat_model.predict(X_test)\n",
        "mae = mean_absolute_error(y_test, y_pred)\n",
        "print(\"Mean Absolute Error:\", mae)\n",
        "\n",
        "# Коэффициент детерминации (R2)\n",
        "r2 = r2_score(y_test, y_pred)\n",
        "print(\"R2: \", r2)\n",
        "\n",
        "# Корень из среднеквадратичной ошибки (RMSE)\n",
        "y_pred = model.predict(X_test)\n",
        "rmse = mean_squared_error(y_test, y_pred, squared=False)\n",
        "print(f\"(RMSE): {rmse:.2f}\")"
      ],
      "metadata": {
        "id": "h3tjIfhTIcpu",
        "colab": {
          "base_uri": "https://localhost:8080/"
        },
        "outputId": "3a6210ab-8daf-4e49-e33a-8a23a6356c86"
      },
      "id": "h3tjIfhTIcpu",
      "execution_count": 18,
      "outputs": [
        {
          "output_type": "stream",
          "name": "stdout",
          "text": [
            "Looking in indexes: https://pypi.org/simple, https://us-python.pkg.dev/colab-wheels/public/simple/\n",
            "Collecting catboost\n",
            "  Downloading catboost-1.2-cp310-cp310-manylinux2014_x86_64.whl (98.6 MB)\n",
            "\u001b[2K     \u001b[90m━━━━━━━━━━━━━━━━━━━━━━━━━━━━━━━━━━━━━━━━\u001b[0m \u001b[32m98.6/98.6 MB\u001b[0m \u001b[31m8.7 MB/s\u001b[0m eta \u001b[36m0:00:00\u001b[0m\n",
            "\u001b[?25hRequirement already satisfied: graphviz in /usr/local/lib/python3.10/dist-packages (from catboost) (0.20.1)\n",
            "Requirement already satisfied: matplotlib in /usr/local/lib/python3.10/dist-packages (from catboost) (3.7.1)\n",
            "Requirement already satisfied: numpy>=1.16.0 in /usr/local/lib/python3.10/dist-packages (from catboost) (1.22.4)\n",
            "Requirement already satisfied: pandas>=0.24 in /usr/local/lib/python3.10/dist-packages (from catboost) (1.5.3)\n",
            "Requirement already satisfied: scipy in /usr/local/lib/python3.10/dist-packages (from catboost) (1.10.1)\n",
            "Requirement already satisfied: plotly in /usr/local/lib/python3.10/dist-packages (from catboost) (5.13.1)\n",
            "Requirement already satisfied: six in /usr/local/lib/python3.10/dist-packages (from catboost) (1.16.0)\n",
            "Requirement already satisfied: python-dateutil>=2.8.1 in /usr/local/lib/python3.10/dist-packages (from pandas>=0.24->catboost) (2.8.2)\n",
            "Requirement already satisfied: pytz>=2020.1 in /usr/local/lib/python3.10/dist-packages (from pandas>=0.24->catboost) (2022.7.1)\n",
            "Requirement already satisfied: contourpy>=1.0.1 in /usr/local/lib/python3.10/dist-packages (from matplotlib->catboost) (1.0.7)\n",
            "Requirement already satisfied: cycler>=0.10 in /usr/local/lib/python3.10/dist-packages (from matplotlib->catboost) (0.11.0)\n",
            "Requirement already satisfied: fonttools>=4.22.0 in /usr/local/lib/python3.10/dist-packages (from matplotlib->catboost) (4.39.3)\n",
            "Requirement already satisfied: kiwisolver>=1.0.1 in /usr/local/lib/python3.10/dist-packages (from matplotlib->catboost) (1.4.4)\n",
            "Requirement already satisfied: packaging>=20.0 in /usr/local/lib/python3.10/dist-packages (from matplotlib->catboost) (23.1)\n",
            "Requirement already satisfied: pillow>=6.2.0 in /usr/local/lib/python3.10/dist-packages (from matplotlib->catboost) (8.4.0)\n",
            "Requirement already satisfied: pyparsing>=2.3.1 in /usr/local/lib/python3.10/dist-packages (from matplotlib->catboost) (3.0.9)\n",
            "Requirement already satisfied: tenacity>=6.2.0 in /usr/local/lib/python3.10/dist-packages (from plotly->catboost) (8.2.2)\n",
            "Installing collected packages: catboost\n",
            "Successfully installed catboost-1.2\n",
            "Mean Absolute Error: 2273.814219587568\n",
            "R2:  0.5998194360326121\n",
            "(RMSE): 3080.31\n"
          ]
        }
      ]
    },
    {
      "cell_type": "markdown",
      "source": [
        "# lightgbm"
      ],
      "metadata": {
        "id": "1vHyRiU-N8_D"
      },
      "id": "1vHyRiU-N8_D"
    },
    {
      "cell_type": "code",
      "source": [
        "!pip install lightgbm\n",
        "from lightgbm import LGBMRegressor\n",
        "from sklearn.model_selection import train_test_split\n",
        "from sklearn.metrics import mean_squared_error\n",
        "\n",
        "# Разделяем данные на обучающую и тестовую выборки\n",
        "X_train, X_test, y_train, y_test = train_test_split(X, y, test_size=0.2, random_state=42)\n",
        "\n",
        "# Создаем модель\n",
        "model = LGBMRegressor()\n",
        "\n",
        "# Обучаем модель на обучающей выборке\n",
        "model.fit(X_train, y_train)\n",
        "\n",
        "# Получаем предсказания на тестовой выборке\n",
        "y_pred = model.predict(X_test)\n",
        "\n",
        "# Вычисляем среднеквадратичную ошибку\n",
        "mse = mean_squared_error(y_test, y_pred)\n",
        "print(f\"Среднеквадратичная ошибка: {mse:.2f}\")\n",
        "\n",
        "# Коэффициент детерминации (R2)\n",
        "r2 = r2_score(y_test, y_pred)\n",
        "print(\"R2: \", r2)\n",
        "\n",
        "# Корень из среднеквадратичной ошибки (RMSE)\n",
        "y_pred = model.predict(X_test)\n",
        "rmse = mean_squared_error(y_test, y_pred, squared=False)\n",
        "print(f\"(RMSE): {rmse:.2f}\")"
      ],
      "metadata": {
        "colab": {
          "base_uri": "https://localhost:8080/"
        },
        "id": "SSLtRPGYoQuQ",
        "outputId": "63a963f6-bc7e-43ab-f559-47dc433abb8b"
      },
      "id": "SSLtRPGYoQuQ",
      "execution_count": 19,
      "outputs": [
        {
          "output_type": "stream",
          "name": "stdout",
          "text": [
            "Looking in indexes: https://pypi.org/simple, https://us-python.pkg.dev/colab-wheels/public/simple/\n",
            "Requirement already satisfied: lightgbm in /usr/local/lib/python3.10/dist-packages (3.3.5)\n",
            "Requirement already satisfied: wheel in /usr/local/lib/python3.10/dist-packages (from lightgbm) (0.40.0)\n",
            "Requirement already satisfied: numpy in /usr/local/lib/python3.10/dist-packages (from lightgbm) (1.22.4)\n",
            "Requirement already satisfied: scipy in /usr/local/lib/python3.10/dist-packages (from lightgbm) (1.10.1)\n",
            "Requirement already satisfied: scikit-learn!=0.22.0 in /usr/local/lib/python3.10/dist-packages (from lightgbm) (1.2.2)\n",
            "Requirement already satisfied: joblib>=1.1.1 in /usr/local/lib/python3.10/dist-packages (from scikit-learn!=0.22.0->lightgbm) (1.2.0)\n",
            "Requirement already satisfied: threadpoolctl>=2.0.0 in /usr/local/lib/python3.10/dist-packages (from scikit-learn!=0.22.0->lightgbm) (3.1.0)\n",
            "Среднеквадратичная ошибка: 9026392.82\n",
            "R2:  0.6332140734611444\n",
            "(RMSE): 3004.40\n"
          ]
        }
      ]
    }
  ],
  "metadata": {
    "colab": {
      "provenance": [],
      "include_colab_link": true
    },
    "kernelspec": {
      "display_name": "Python 3",
      "language": "python",
      "name": "python3"
    },
    "language_info": {
      "codemirror_mode": {
        "name": "ipython",
        "version": 3
      },
      "file_extension": ".py",
      "mimetype": "text/x-python",
      "name": "python",
      "nbconvert_exporter": "python",
      "pygments_lexer": "ipython3",
      "version": "3.8.8"
    }
  },
  "nbformat": 4,
  "nbformat_minor": 5
}