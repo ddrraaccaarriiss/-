{
  "nbformat": 4,
  "nbformat_minor": 0,
  "metadata": {
    "colab": {
      "provenance": [],
      "include_colab_link": true
    },
    "kernelspec": {
      "name": "python3",
      "display_name": "Python 3"
    },
    "language_info": {
      "name": "python"
    }
  },
  "cells": [
    {
      "cell_type": "markdown",
      "metadata": {
        "id": "view-in-github",
        "colab_type": "text"
      },
      "source": [
        "<a href=\"https://colab.research.google.com/github/ddrraaccaarriiss/Cramer/blob/master/Lection_1.ipynb\" target=\"_parent\"><img src=\"https://colab.research.google.com/assets/colab-badge.svg\" alt=\"Open In Colab\"/></a>"
      ]
    },
    {
      "cell_type": "markdown",
      "source": [
        "# Переменные. Обзор типов данных.\n"
      ],
      "metadata": {
        "id": "_01_KNKql2Ly"
      }
    },
    {
      "cell_type": "markdown",
      "source": [
        "**Переменные** \n",
        "\n",
        " \n",
        "\n",
        "В Python переменная это это ссылка на какой-то объект. Допустим у вас в памяти хранятся какие то объекты и вы просто привязываете к ним переменные. При чем к одному объекту можно привязывать несколько различные переменные и обе они будут указывать на один и тот же объект. Однако любые изменения которые вы сделаете с этим объектом обращаясь к нему по одному имени, также будут доступны когда вы обращаетесь к нему по другому имени."
      ],
      "metadata": {
        "id": "5FcpcncnnSDh"
      }
    },
    {
      "cell_type": "code",
      "source": [
        "a = \"hello\"\n",
        "b = 4"
      ],
      "metadata": {
        "id": "ar1FrWOGnc8o"
      },
      "execution_count": null,
      "outputs": []
    },
    {
      "cell_type": "code",
      "source": [
        "s = a + b\n",
        "s"
      ],
      "metadata": {
        "colab": {
          "base_uri": "https://localhost:8080/"
        },
        "id": "f0oXrGxDnx_T",
        "outputId": "df53e2bc-370f-4fb2-f414-172a5f2e7fc0"
      },
      "execution_count": null,
      "outputs": [
        {
          "output_type": "execute_result",
          "data": {
            "text/plain": [
              "9"
            ]
          },
          "metadata": {},
          "execution_count": 3
        }
      ]
    },
    {
      "cell_type": "code",
      "source": [
        "b"
      ],
      "metadata": {
        "colab": {
          "base_uri": "https://localhost:8080/"
        },
        "id": "TUl4hcSsn2BQ",
        "outputId": "90c33baf-4fdf-4605-aced-b76a57081eae"
      },
      "execution_count": null,
      "outputs": [
        {
          "output_type": "execute_result",
          "data": {
            "text/plain": [
              "4"
            ]
          },
          "metadata": {},
          "execution_count": 3
        }
      ]
    },
    {
      "cell_type": "code",
      "source": [
        "a + b"
      ],
      "metadata": {
        "colab": {
          "base_uri": "https://localhost:8080/"
        },
        "id": "AyBEO85Yn4PS",
        "outputId": "ca04f3a8-8ece-4c30-95cf-dd7245f3bcd6"
      },
      "execution_count": null,
      "outputs": [
        {
          "output_type": "execute_result",
          "data": {
            "text/plain": [
              "9"
            ]
          },
          "metadata": {},
          "execution_count": 4
        }
      ]
    },
    {
      "cell_type": "code",
      "source": [
        "c = a + b\n",
        "c"
      ],
      "metadata": {
        "colab": {
          "base_uri": "https://localhost:8080/"
        },
        "id": "i_e8h2C-n8PM",
        "outputId": "d8fa85a5-345f-4c1f-99b3-a223b884e998"
      },
      "execution_count": null,
      "outputs": [
        {
          "output_type": "execute_result",
          "data": {
            "text/plain": [
              "9"
            ]
          },
          "metadata": {},
          "execution_count": 6
        }
      ]
    },
    {
      "cell_type": "code",
      "source": [
        "d = 10\n",
        "e = d"
      ],
      "metadata": {
        "id": "6Qxn3od-n_ey"
      },
      "execution_count": null,
      "outputs": []
    },
    {
      "cell_type": "code",
      "source": [
        "id(e)"
      ],
      "metadata": {
        "colab": {
          "base_uri": "https://localhost:8080/"
        },
        "id": "MigzeIFAoFhj",
        "outputId": "4f96df03-b65b-4bbc-d72e-1e210ef2d72e"
      },
      "execution_count": null,
      "outputs": [
        {
          "output_type": "execute_result",
          "data": {
            "text/plain": [
              "9793376"
            ]
          },
          "metadata": {},
          "execution_count": 13
        }
      ]
    },
    {
      "cell_type": "code",
      "source": [
        "id(d)"
      ],
      "metadata": {
        "colab": {
          "base_uri": "https://localhost:8080/"
        },
        "id": "7yibYQ5CoNev",
        "outputId": "63ba024c-e193-4a1f-f217-a49ac5c6c6e8"
      },
      "execution_count": null,
      "outputs": [
        {
          "output_type": "execute_result",
          "data": {
            "text/plain": [
              "9793376"
            ]
          },
          "metadata": {},
          "execution_count": 9
        }
      ]
    },
    {
      "cell_type": "code",
      "source": [
        "d=20"
      ],
      "metadata": {
        "id": "mA7Jvb4cH00a"
      },
      "execution_count": null,
      "outputs": []
    },
    {
      "cell_type": "code",
      "source": [
        "id(d)"
      ],
      "metadata": {
        "colab": {
          "base_uri": "https://localhost:8080/"
        },
        "id": "jKtnrkQFH_Lb",
        "outputId": "080bb80c-d67b-451c-ae4e-33413289a815"
      },
      "execution_count": null,
      "outputs": [
        {
          "output_type": "execute_result",
          "data": {
            "text/plain": [
              "9793696"
            ]
          },
          "metadata": {},
          "execution_count": 11
        }
      ]
    },
    {
      "cell_type": "code",
      "source": [
        "id(e)"
      ],
      "metadata": {
        "colab": {
          "base_uri": "https://localhost:8080/"
        },
        "id": "WeGBdHDKIJBv",
        "outputId": "b723f759-d643-43b6-d805-cde813cf8ea5"
      },
      "execution_count": null,
      "outputs": [
        {
          "output_type": "execute_result",
          "data": {
            "text/plain": [
              "9793376"
            ]
          },
          "metadata": {},
          "execution_count": 12
        }
      ]
    },
    {
      "cell_type": "markdown",
      "source": [
        "## Данные и их типы\n",
        "\n",
        "В Python существует множество различных типов данных, которые подразделяются на категории: числа, последовательности, словари, наборы:\n",
        "\n",
        "**boolean** - логическое значение True или False\n",
        "\n",
        "**int** - представляет целое число, например, 1, 4, 8, 50.\n",
        "\n",
        "**float** - представляет число с плавающей точкой, например, 1.2 или 34.76\n",
        "\n",
        "**complex** - комплексные числа\n",
        "\n",
        "**str** - строки, например \"hello, world\". В Python 3.x строки представляют набор символов в кодировке Unicode\n",
        "\n",
        "**list** - список\n",
        "\n",
        "**tuple** - кортеж\n",
        "\n",
        "**set** - неупорядоченная коллекция уникальных объектов\n",
        "\n",
        "**frozen set** - то же самое, что и set, только не может изменяться (immutable)\n",
        "\n",
        "**dict** - словарь, где каждый элемент имеет ключ и значение"
      ],
      "metadata": {
        "id": "od24emRwol97"
      }
    },
    {
      "cell_type": "code",
      "source": [
        "name = \"Alice\"\n",
        "type(name)"
      ],
      "metadata": {
        "colab": {
          "base_uri": "https://localhost:8080/"
        },
        "id": "mdeKzzrsobMh",
        "outputId": "6e611d61-c070-4b6e-fd5e-b8e05e09318f"
      },
      "execution_count": null,
      "outputs": [
        {
          "output_type": "execute_result",
          "data": {
            "text/plain": [
              "str"
            ]
          },
          "metadata": {},
          "execution_count": 13
        }
      ]
    },
    {
      "cell_type": "code",
      "source": [
        "age = 32\n",
        "type(age)"
      ],
      "metadata": {
        "colab": {
          "base_uri": "https://localhost:8080/"
        },
        "id": "1SWfYeHxpXiB",
        "outputId": "4fb92172-37fc-4c39-829d-cc18609aa6e8"
      },
      "execution_count": null,
      "outputs": [
        {
          "output_type": "execute_result",
          "data": {
            "text/plain": [
              "int"
            ]
          },
          "metadata": {},
          "execution_count": 14
        }
      ]
    },
    {
      "cell_type": "code",
      "source": [
        "is_married = True\n",
        "type(is_married)"
      ],
      "metadata": {
        "colab": {
          "base_uri": "https://localhost:8080/"
        },
        "id": "VyL6QXj1pegJ",
        "outputId": "586f35b7-23c9-4e14-d4b8-68fa05263eef"
      },
      "execution_count": null,
      "outputs": [
        {
          "output_type": "execute_result",
          "data": {
            "text/plain": [
              "bool"
            ]
          },
          "metadata": {},
          "execution_count": 16
        }
      ]
    },
    {
      "cell_type": "markdown",
      "source": [
        "## Изменяемые и неизменяемые типы данных \n",
        " \n",
        "\n",
        "В Python существуют изменяемые и неизменяемые типы.\n",
        "\n",
        "К неизменяемым (**immutable**) типам относятся: целые числа (int),  числа с плавающей точкой (float), комплексные числа (complex), логические переменные (bool), кортежи (tuple), строки (str) и неизменяемые множества (frozen set).\n",
        "\n",
        "К изменяемым (**mutable**) типам относятся: списки (list), множества (set), словари (dict).\n",
        "\n",
        "Как уже было сказано ранее, при создании переменной, вначале создается объект, который имеет уникальный идентификатор, тип и значение, после этого переменная может ссылаться на созданный объект.\n",
        "\n",
        "Неизменяемость типа данных означает, что созданный объект больше не изменяется. Например, если мы объявим переменную k = 15, то будет создан объект со значением 15, типа int и идентификатором, который можно узнать с помощью функции id()."
      ],
      "metadata": {
        "id": "RozqtjyMpo8M"
      }
    },
    {
      "cell_type": "code",
      "source": [
        "last_name = \"Snow\"\n",
        "id(last_name)"
      ],
      "metadata": {
        "colab": {
          "base_uri": "https://localhost:8080/"
        },
        "id": "12IJeER8piZV",
        "outputId": "6963c33f-ce44-417c-ea89-7de9a0d24836"
      },
      "execution_count": null,
      "outputs": [
        {
          "output_type": "execute_result",
          "data": {
            "text/plain": [
              "140174827384176"
            ]
          },
          "metadata": {},
          "execution_count": 17
        }
      ]
    },
    {
      "cell_type": "code",
      "source": [
        "last_name = \"Brown\"\n",
        "id(last_name)"
      ],
      "metadata": {
        "colab": {
          "base_uri": "https://localhost:8080/"
        },
        "id": "6Ge-JX60p8K2",
        "outputId": "029847f9-041d-4d05-e380-b9c47cb43a9f"
      },
      "execution_count": null,
      "outputs": [
        {
          "output_type": "execute_result",
          "data": {
            "text/plain": [
              "140174839556272"
            ]
          },
          "metadata": {},
          "execution_count": 18
        }
      ]
    },
    {
      "cell_type": "code",
      "source": [
        "numbers = [1, 2, 3, 4]\n",
        "id(numbers)"
      ],
      "metadata": {
        "colab": {
          "base_uri": "https://localhost:8080/"
        },
        "id": "cFAZ5AG3qCEg",
        "outputId": "66f5ba68-425c-4725-b6af-0ad3b479dbf5"
      },
      "execution_count": null,
      "outputs": [
        {
          "output_type": "execute_result",
          "data": {
            "text/plain": [
              "140174568504448"
            ]
          },
          "metadata": {},
          "execution_count": 19
        }
      ]
    },
    {
      "cell_type": "code",
      "source": [
        "type(numbers)"
      ],
      "metadata": {
        "colab": {
          "base_uri": "https://localhost:8080/"
        },
        "id": "zPMU7c2QMW7T",
        "outputId": "1e29d987-06e4-4373-a28f-14bb23d9d87d"
      },
      "execution_count": null,
      "outputs": [
        {
          "output_type": "execute_result",
          "data": {
            "text/plain": [
              "list"
            ]
          },
          "metadata": {},
          "execution_count": 20
        }
      ]
    },
    {
      "cell_type": "code",
      "source": [
        "numbers.append(100)"
      ],
      "metadata": {
        "id": "CoEhvFpTMsXo"
      },
      "execution_count": null,
      "outputs": []
    },
    {
      "cell_type": "code",
      "source": [
        "numbers"
      ],
      "metadata": {
        "colab": {
          "base_uri": "https://localhost:8080/"
        },
        "id": "JJfNCvYoM3lX",
        "outputId": "942c969c-9c6b-4d2c-9a85-3fda8adef55a"
      },
      "execution_count": null,
      "outputs": [
        {
          "output_type": "execute_result",
          "data": {
            "text/plain": [
              "[1, 2, 3, 4, 100, 100, 100]"
            ]
          },
          "metadata": {},
          "execution_count": 25
        }
      ]
    },
    {
      "cell_type": "code",
      "source": [
        "numbers.append(100)\n",
        "id(numbers)"
      ],
      "metadata": {
        "colab": {
          "base_uri": "https://localhost:8080/"
        },
        "id": "b2W5GA3OqHGp",
        "outputId": "3af29967-f6c5-4796-9eef-52c5f25f1a40"
      },
      "execution_count": null,
      "outputs": [
        {
          "output_type": "execute_result",
          "data": {
            "text/plain": [
              "139843643465984"
            ]
          },
          "metadata": {},
          "execution_count": 22
        }
      ]
    },
    {
      "cell_type": "markdown",
      "source": [
        "# Типы данных: Numbers"
      ],
      "metadata": {
        "id": "X1RvwFMw8aJn"
      }
    },
    {
      "cell_type": "markdown",
      "source": [
        "\n",
        "\n",
        " \n",
        "\n",
        "Числовой тип данных в Python предназначен для хранения числовых значений. Это неизменяемый тип данных, что означает, что изменение значения числового типа данных приведет к созданию нового объекта в памяти (и удалению старого). Присвоив переменной num1 значение 33, мы создаем числовой объект, а с помощью записи del num1 можем удалить его.\n",
        "\n",
        " \n",
        "\n",
        "В Python есть четыре вида числового типа данных:\n",
        "\n",
        "  * int (целое число)\n",
        "\n",
        "  * long (длинное целое число [может быть представлено в восьмеричной или шестнадцатеричной системе исчисления])\n",
        "\n",
        "  * float (число с плавающей точкой: -0.2, 0.0, 3.14159265 и т.д.)\n",
        "\n",
        "  * complex (комплексное число)\n",
        "\n",
        " \n",
        "\n",
        "### Целые числа (int) \n",
        "\n",
        " \n",
        "\n",
        "Числа в Python 3 ничем не отличаются от обычных чисел. Они поддерживают набор самых обычных математических операций:\n",
        "\n",
        "x + y    Сложение\n",
        "\n",
        "x - y    Вычитание\n",
        "\n",
        "x * y    Умножение\n",
        "\n",
        "x / y    Деление\n",
        "\n",
        "x // y    Получение целой части от деления\n",
        "\n",
        "x % y    Остаток от деления\n",
        "\n",
        "-x    Смена знака числа\n",
        "\n",
        "abs(x)    Модуль числа\n",
        "\n",
        "divmod(x, y)    Пара (x // y, x % y)\n",
        "\n",
        "x ** y    Возведение в степень\n",
        "\n",
        "pow(x, y[, z])    x ** y % z"
      ],
      "metadata": {
        "id": "iiYIvYPDrB-G"
      }
    },
    {
      "cell_type": "markdown",
      "source": [
        "### Let's do it together!\n",
        "\n"
      ],
      "metadata": {
        "id": "M_yf5Bhmrzhs"
      }
    },
    {
      "cell_type": "code",
      "source": [
        "# Task1: Даны две переменные num1 и num2. \n",
        "# Присвойте им численные значения (любые).\n",
        "# Произвести все математические операции с ними."
      ],
      "metadata": {
        "id": "RqyD9QPGr4yB"
      },
      "execution_count": null,
      "outputs": []
    },
    {
      "cell_type": "code",
      "source": [
        "# PUT YOUR CODE HERE\n",
        "num1 = 10\n",
        "num2 = 3"
      ],
      "metadata": {
        "id": "RTp2PZ7btlfu"
      },
      "execution_count": null,
      "outputs": []
    },
    {
      "cell_type": "code",
      "source": [
        "num1 + num2 # +"
      ],
      "metadata": {
        "id": "X39pltCrxqJb",
        "colab": {
          "base_uri": "https://localhost:8080/"
        },
        "outputId": "76db8e15-5eeb-4aad-8428-8fc1ca48273b"
      },
      "execution_count": null,
      "outputs": [
        {
          "output_type": "execute_result",
          "data": {
            "text/plain": [
              "13"
            ]
          },
          "metadata": {},
          "execution_count": 28
        }
      ]
    },
    {
      "cell_type": "code",
      "source": [
        "# -"
      ],
      "metadata": {
        "id": "qNgO9Yzbtnlj"
      },
      "execution_count": null,
      "outputs": []
    },
    {
      "cell_type": "code",
      "source": [
        "num1 - num2 # -"
      ],
      "metadata": {
        "colab": {
          "base_uri": "https://localhost:8080/"
        },
        "outputId": "da7d1d67-b13d-411a-ee35-5971482aa825",
        "id": "daxfVvToO1gl"
      },
      "execution_count": null,
      "outputs": [
        {
          "output_type": "execute_result",
          "data": {
            "text/plain": [
              "7"
            ]
          },
          "metadata": {},
          "execution_count": 30
        }
      ]
    },
    {
      "cell_type": "code",
      "source": [
        "# *\n",
        "num1 * num2"
      ],
      "metadata": {
        "id": "zEIf2Z8Btvdv",
        "colab": {
          "base_uri": "https://localhost:8080/"
        },
        "outputId": "67f7826f-885c-4945-bb43-f40bd40d7f49"
      },
      "execution_count": null,
      "outputs": [
        {
          "output_type": "execute_result",
          "data": {
            "text/plain": [
              "30"
            ]
          },
          "metadata": {},
          "execution_count": 34
        }
      ]
    },
    {
      "cell_type": "code",
      "source": [
        "# /\n",
        "num1 / num2"
      ],
      "metadata": {
        "id": "5O6mY8MgtxNH",
        "colab": {
          "base_uri": "https://localhost:8080/"
        },
        "outputId": "660f6196-4086-4bea-fcbe-ed6d639adae0"
      },
      "execution_count": null,
      "outputs": [
        {
          "output_type": "execute_result",
          "data": {
            "text/plain": [
              "3.3333333333333335"
            ]
          },
          "metadata": {},
          "execution_count": 35
        }
      ]
    },
    {
      "cell_type": "code",
      "source": [
        "# //\n",
        "num1 // num2"
      ],
      "metadata": {
        "id": "Pm0zWv3stzBu",
        "colab": {
          "base_uri": "https://localhost:8080/"
        },
        "outputId": "212dfeee-8f6f-4dcc-ac75-6222bae72332"
      },
      "execution_count": null,
      "outputs": [
        {
          "output_type": "execute_result",
          "data": {
            "text/plain": [
              "3"
            ]
          },
          "metadata": {},
          "execution_count": 10
        }
      ]
    },
    {
      "cell_type": "code",
      "source": [
        "# %\n",
        "num1 % num2\n",
        "a= 10 %2\n",
        "print(a)"
      ],
      "metadata": {
        "id": "nxACCckLt07Q",
        "colab": {
          "base_uri": "https://localhost:8080/"
        },
        "outputId": "0621b13d-1162-4511-eec2-b2e692b41755"
      },
      "execution_count": null,
      "outputs": [
        {
          "output_type": "stream",
          "name": "stdout",
          "text": [
            "0\n"
          ]
        }
      ]
    },
    {
      "cell_type": "code",
      "source": [
        "# abs\n",
        "abs(-num2)"
      ],
      "metadata": {
        "id": "LihMyRGWt3GE",
        "colab": {
          "base_uri": "https://localhost:8080/"
        },
        "outputId": "249bd341-4433-416f-d7a2-f438f24f3d4c"
      },
      "execution_count": null,
      "outputs": [
        {
          "output_type": "execute_result",
          "data": {
            "text/plain": [
              "3"
            ]
          },
          "metadata": {},
          "execution_count": 16
        }
      ]
    },
    {
      "cell_type": "code",
      "source": [
        "# **"
      ],
      "metadata": {
        "id": "z4B3bOIot6cH"
      },
      "execution_count": null,
      "outputs": []
    },
    {
      "cell_type": "code",
      "source": [
        "# divmod\n",
        "divmod(num1, num2)"
      ],
      "metadata": {
        "id": "EhBFvsG2t8To",
        "colab": {
          "base_uri": "https://localhost:8080/"
        },
        "outputId": "52dd22bf-4b18-4314-f7a9-f61fedbabb5f"
      },
      "execution_count": null,
      "outputs": [
        {
          "output_type": "execute_result",
          "data": {
            "text/plain": [
              "(3, 1)"
            ]
          },
          "metadata": {},
          "execution_count": 18
        }
      ]
    },
    {
      "cell_type": "code",
      "source": [
        "# pow"
      ],
      "metadata": {
        "id": "uGzooW11t-zZ"
      },
      "execution_count": null,
      "outputs": []
    },
    {
      "cell_type": "code",
      "source": [
        "# Task2: Решите задачу\n",
        "# Лыжник едет со скоростью 40 км/час. За какое время он проедет дистанцию в 9 км?\n",
        "# Время переведите в минуты"
      ],
      "metadata": {
        "id": "1XK4G04lzI01"
      },
      "execution_count": null,
      "outputs": []
    },
    {
      "cell_type": "code",
      "source": [
        "speed = 40\n",
        "distance = 9\n",
        "time = distance / speed * 60\n",
        "print(time)"
      ],
      "metadata": {
        "id": "LWHXDhKe0O4C",
        "colab": {
          "base_uri": "https://localhost:8080/"
        },
        "outputId": "1beb557e-6754-45b6-d379-23e16aae5a94"
      },
      "execution_count": null,
      "outputs": [
        {
          "output_type": "stream",
          "name": "stdout",
          "text": [
            "13.5\n"
          ]
        }
      ]
    },
    {
      "cell_type": "code",
      "source": [
        "# PUT YOUR CODE HERE\n"
      ],
      "metadata": {
        "id": "aIbZ7LoZ0e2W"
      },
      "execution_count": null,
      "outputs": []
    },
    {
      "cell_type": "code",
      "source": [
        "# Task3: Решите задачу\n",
        "# Дан прямоугольный треугольник с катетами равными 3 и 4 соответственно.\n",
        "# Найдите гипотенузу по формуле Пифагора"
      ],
      "metadata": {
        "id": "roRNrckC00l4"
      },
      "execution_count": null,
      "outputs": []
    },
    {
      "cell_type": "code",
      "source": [
        "k1 = 3\n",
        "k2 = 4"
      ],
      "metadata": {
        "id": "CYVZ3YvY2ndu"
      },
      "execution_count": null,
      "outputs": []
    },
    {
      "cell_type": "code",
      "source": [
        "# PUT YOUR CODE HERE\n",
        "# Hint: a2 + b2 = c2\n"
      ],
      "metadata": {
        "id": "adGcqGi824Uc"
      },
      "execution_count": null,
      "outputs": []
    },
    {
      "cell_type": "code",
      "source": [
        "# round()"
      ],
      "metadata": {
        "id": "n3BHRroxFcvf"
      },
      "execution_count": null,
      "outputs": []
    },
    {
      "cell_type": "markdown",
      "source": [
        "# Типы данных: String(строки) + методы строк"
      ],
      "metadata": {
        "id": "YG9qvE6g8iRI"
      }
    },
    {
      "cell_type": "markdown",
      "source": [
        "String. Функции и методы строк   \n",
        "\n",
        " \n",
        "\n",
        "Строки в Python -  набор последовательных символов, используемые для хранения и представления текстовой информации. Поэтому с помощью строк можно работать со всем, что может быть представлено в текстовой форме. Строки являются неизменяемыми типами данных, поэтому все строковые методы возвращают новую строку. Со строками можно проводить следующие операции:"
      ],
      "metadata": {
        "id": "esDh47tZ8mOh"
      }
    },
    {
      "cell_type": "code",
      "source": [
        "# Конкатенация\n",
        "s1 = \"water\"\n",
        "s2 = \"fall\"\n",
        "s1 + s2"
      ],
      "metadata": {
        "colab": {
          "base_uri": "https://localhost:8080/",
          "height": 35
        },
        "id": "vXjLCdC98lVb",
        "outputId": "ea410860-66d4-40c7-957d-8cc73a9ec3bf"
      },
      "execution_count": null,
      "outputs": [
        {
          "output_type": "execute_result",
          "data": {
            "text/plain": [
              "'waterfall'"
            ],
            "application/vnd.google.colaboratory.intrinsic+json": {
              "type": "string"
            }
          },
          "metadata": {},
          "execution_count": 2
        }
      ]
    },
    {
      "cell_type": "code",
      "source": [
        "# Дублирование\n",
        "\"spam\" * 3"
      ],
      "metadata": {
        "colab": {
          "base_uri": "https://localhost:8080/",
          "height": 35
        },
        "id": "XAWc1h6J82K6",
        "outputId": "3e2b50d9-9520-4442-e1f8-ef0fa8cd8a05"
      },
      "execution_count": null,
      "outputs": [
        {
          "output_type": "execute_result",
          "data": {
            "text/plain": [
              "'spamspamspam'"
            ],
            "application/vnd.google.colaboratory.intrinsic+json": {
              "type": "string"
            }
          },
          "metadata": {},
          "execution_count": 3
        }
      ]
    },
    {
      "cell_type": "code",
      "source": [
        "# Доступ по индексу\n",
        "s = \"Python\"\n",
        "s[0]"
      ],
      "metadata": {
        "colab": {
          "base_uri": "https://localhost:8080/",
          "height": 35
        },
        "id": "SVG40Ta289y_",
        "outputId": "a047a1a5-54be-4de1-9fe7-ff0a997c5b2a"
      },
      "execution_count": null,
      "outputs": [
        {
          "output_type": "execute_result",
          "data": {
            "text/plain": [
              "'P'"
            ],
            "application/vnd.google.colaboratory.intrinsic+json": {
              "type": "string"
            }
          },
          "metadata": {},
          "execution_count": 4
        }
      ]
    },
    {
      "cell_type": "markdown",
      "source": [
        "Извлечение среза\n",
        "\n",
        "Оператор извлечения среза: [X:Y]. X – начало среза, а Y – окончание. Символ с номером Y в срез не входит. По умолчанию первый индекс равен 0, а второй - длине строки."
      ],
      "metadata": {
        "id": "-8JH7mPs9RVp"
      }
    },
    {
      "cell_type": "code",
      "source": [
        "s = 'spameggs'\n",
        "print(s[3:5]) #'me'\n",
        "print(s[2:-2]) #'ameg'\n",
        "# Кроме того, можно задать шаг, с которым нужно извлекать срез.\n",
        "print(s[::-1]) #'sggemaps'\n",
        "print(s[3:5:-1]) #''\n",
        "print(s[2::2]) #'aeg'"
      ],
      "metadata": {
        "colab": {
          "base_uri": "https://localhost:8080/"
        },
        "id": "iN_MR5y-9I9f",
        "outputId": "9012457d-4d87-4886-a296-ffc392fd1298"
      },
      "execution_count": null,
      "outputs": [
        {
          "output_type": "stream",
          "name": "stdout",
          "text": [
            "me\n",
            "ameg\n",
            "sggemaps\n",
            "\n",
            "aeg\n"
          ]
        }
      ]
    },
    {
      "cell_type": "markdown",
      "source": [
        "## Функции и методы строк\n",
        "\n",
        "\n",
        "* S.find(str, [start],[end]) Поиск подстроки в строке. \n",
        "Возвращает номер первого вхождения или -1\n",
        "* S.rfind(str, [start],[end]) Поиск подстроки в строке. Возвращает номер последнего вхождения или -1\n",
        "* S.index(str, [start],[end]) Поиск подстроки в строке. Возвращает номер первого вхождения или вызывает ValueError\n",
        "* S.rindex(str, [start],[end]) Поиск подстроки в строке. Возвращает номер последнего вхождения или вызывает ValueError\n",
        "* S.replace(шаблон, замена) Замена шаблона\n",
        "* S.split(символ) Разбиение строки по разделителю\n",
        "* S.upper() Преобразование строки к верхнему регистру\n",
        "* S.lower() Преобразование строки к нижнему регистру\n",
        "* S.swapcase() Переводит символы нижнего регистра в верхний, а верхнего – в нижний\n",
        "* S.startswith(str) Начинается ли строка S с шаблона str\n",
        "* S.title() Первую букву каждого слова переводит в верхний регистр, а все остальные в нижний\n",
        "* S.capitalize() Переводит первый символ строки в верхний регистр, а все остальные в нижний\n",
        "* S.endswith(str) Заканчивается ли строка S шаблоном str\n",
        "* S.join(список) Сборка строки из списка с разделителем S\n",
        "ord(символ) Символ в его код ASCII\n",
        "chr(число) Код ASCII в символ\n",
        "* S.center(width, [fill]) Возвращает отцентрованную строку, по краям которой стоит символ fill (пробел по умолчанию)\n",
        "* S.count(str, [start],[end]) Возвращает количество непересекающихся вхождений подстроки в диапазоне [начало, конец] (0 и длина строки по умолчанию)\n",
        "* S.lstrip([chars]) Удаление пробельных символов в начале строки\n",
        "* S.rstrip([chars]) Удаление пробельных символов в конце строки\n",
        "* S.strip([chars]) Удаление пробельных символов в начале и в конце строки\n",
        "Методы строк, которые возвращают булевое значение(True/False)\n",
        "* S.isdigit() Состоит ли строка из цифр\n",
        "* S.isalpha() Состоит ли строка из букв\n",
        "* S.isalnum() Состоит ли строка из цифр или букв\n",
        "* S.islower() Состоит ли строка из символов в нижнем регистре\n",
        "* S.isupper() Состоит ли строка из символов в верхнем регистре\n",
        "* S.isspace() Состоит ли строка из неотображаемых символов (пробелов, табуляции)\n",
        "* S.istitle() Начинаются ли слова в строке с заглавной буквы"
      ],
      "metadata": {
        "id": "FA1SlVGrBjNN"
      }
    },
    {
      "cell_type": "code",
      "source": [
        "s = \"aloha\"\n",
        "# s.replace(\"o\",\",\",2)\n",
        "# s.split(\",\")\n",
        "# len(s)\n",
        "\"*\".join(s)\n",
        "\n",
        "# d = \"hello world hello\"\n",
        "# d.count(\"h\")#pokazyvat kolichestva bukvy ili slova\n",
        "# d.count(\"o\",5,-1)# pokazyvat kolichestva bukvy ili slova ot do\n",
        "# d.title()\n",
        "# d.capitalize()\n",
        "# d.islower()\n",
        "# d.isupper()\n",
        "# d.isdigit()# \n",
        "# d.isalpha()\n",
        "# d.isalnum()\n",
        "# \"123\" in d\n",
        "\n",
        "# s = \"python\"\n",
        "# s.replace(\"n\",\"p\")# Замена шаблона"
      ],
      "metadata": {
        "id": "Gt3IOYF-CCPZ",
        "colab": {
          "base_uri": "https://localhost:8080/",
          "height": 35
        },
        "outputId": "f59506ac-ca83-4808-8f96-1f07315438c6"
      },
      "execution_count": null,
      "outputs": [
        {
          "output_type": "execute_result",
          "data": {
            "text/plain": [
              "'a*l*o*h*a'"
            ],
            "application/vnd.google.colaboratory.intrinsic+json": {
              "type": "string"
            }
          },
          "metadata": {},
          "execution_count": 4
        }
      ]
    },
    {
      "cell_type": "code",
      "source": [],
      "metadata": {
        "id": "gJd9TOzkZYRc"
      },
      "execution_count": null,
      "outputs": []
    },
    {
      "cell_type": "markdown",
      "source": [
        "Форматирование строк \n",
        "\n",
        "Подстановку данных в строки можно осуществить с помощью форматирования строк:\n",
        "\n",
        "методом format:\n",
        "\n",
        "format() возвращает отформатированную версию строки, заменяя идентификаторы в фигурных скобках. Идентификаторы могут быть позиционными, числовыми индексами, ключами словарей, именами переменных. Аргументов в format() может быть больше, чем идентификаторов в строке. В таком случае оставшиеся игнорируются."
      ],
      "metadata": {
        "id": "fRmgxBIwCN5n"
      }
    },
    {
      "cell_type": "code",
      "source": [
        "\n"
      ],
      "metadata": {
        "id": "rYXw0SK5dZ37"
      },
      "execution_count": null,
      "outputs": []
    },
    {
      "cell_type": "code",
      "source": [
        "name = \"John\"\n",
        "print(\"Hello, {}!\".format(name))"
      ],
      "metadata": {
        "colab": {
          "base_uri": "https://localhost:8080/"
        },
        "id": "GFsxvFImC3z7",
        "outputId": "fcf82779-9254-4e67-a54e-847505eff7cc"
      },
      "execution_count": null,
      "outputs": [
        {
          "output_type": "stream",
          "name": "stdout",
          "text": [
            "Hello, John!\n"
          ]
        }
      ]
    },
    {
      "cell_type": "code",
      "source": [
        "last_name = \"Snow\"\n",
        "print(\"Hello, {1} {0}!\".format(last_name, name))"
      ],
      "metadata": {
        "colab": {
          "base_uri": "https://localhost:8080/"
        },
        "id": "aWAVWUf0DEML",
        "outputId": "f228545e-129b-4e50-b40b-19ab3b91dcd6"
      },
      "execution_count": null,
      "outputs": [
        {
          "output_type": "stream",
          "name": "stdout",
          "text": [
            "Hello, John Snow!\n"
          ]
        }
      ]
    },
    {
      "cell_type": "markdown",
      "source": [
        "с помощью f’string: \n",
        "\n",
        "внутри f-строки в паре фигурных скобок указываются имена переменных, которые надо подставить:"
      ],
      "metadata": {
        "id": "MAa7FgOzDU5N"
      }
    },
    {
      "cell_type": "code",
      "source": [
        "name = 'Scarlett'\n",
        "last_name = \"O'Hara\"\n",
        "print(f'Hello, {name} {last_name}!')"
      ],
      "metadata": {
        "colab": {
          "base_uri": "https://localhost:8080/"
        },
        "id": "g_LVdzvgDV9a",
        "outputId": "232930f8-019b-4a49-d10f-1103d5d20e96"
      },
      "execution_count": null,
      "outputs": [
        {
          "output_type": "stream",
          "name": "stdout",
          "text": [
            "Hello, Scarlett O'Hara!\n"
          ]
        }
      ]
    },
    {
      "cell_type": "markdown",
      "source": [
        "С помощью оператора %:\n",
        " \n",
        "\n",
        "Структура данного типа форматирования выглядит так:"
      ],
      "metadata": {
        "id": "GSlmS6jTDqc4"
      }
    },
    {
      "cell_type": "code",
      "source": [
        "name = \"Alice\"\n",
        "print('Hello, %s!' % name)"
      ],
      "metadata": {
        "colab": {
          "base_uri": "https://localhost:8080/"
        },
        "id": "pi7-SxTNDn5J",
        "outputId": "19afdc19-eee0-4660-c63c-b66e59ba9421"
      },
      "execution_count": null,
      "outputs": [
        {
          "output_type": "stream",
          "name": "stdout",
          "text": [
            "Hello, Alice!\n"
          ]
        }
      ]
    },
    {
      "cell_type": "code",
      "source": [
        "# len()"
      ],
      "metadata": {
        "id": "np5fOm13Fg-V"
      },
      "execution_count": null,
      "outputs": []
    },
    {
      "cell_type": "markdown",
      "source": [
        "## Экранирование\n",
        "\n",
        "Экранированные последовательности, также называемые escape-последовательности, могут состоять из одного или нескольких символов после обратной косой черты:\n",
        "\n",
        "\n",
        "* \\ в самом конце строки\tИгнорируется, строка продолжается на \n",
        "новой строке\n",
        "* \\\\\tСам символ обратного слеша (остается один символ \\)\n",
        "* \\\\'\tАпостроф (остается один ‘)\n",
        "* \\\\\"\tКавычка (остается один символ \")\n",
        "* \\n\tНовая строка (перевод строки)\n",
        "* \\t\tГоризонтальная табуляция\n",
        "* \\u…\t16-битовый символ Юникода в 16-ричном представлении\n",
        "* \\U…\t32-битовый символ Юникода в 32-ричном представлении\n",
        "* \\x…\t16-ричное значение\n",
        "* \\o…\t8-ричное значение"
      ],
      "metadata": {
        "id": "lj71boKSECUy"
      }
    },
    {
      "cell_type": "markdown",
      "source": [
        "### Let's do it together!"
      ],
      "metadata": {
        "id": "u9X2h1ssEwI3"
      }
    },
    {
      "cell_type": "code",
      "source": [
        "# Task1: дана строка string.\n",
        "# Замените все буквы a на *"
      ],
      "metadata": {
        "id": "HsH7cFFcDv4t"
      },
      "execution_count": null,
      "outputs": []
    },
    {
      "cell_type": "code",
      "source": [
        "# PUT YOUR CODE HERE\n",
        "string = \"What a lovely day!\"\n"
      ],
      "metadata": {
        "colab": {
          "base_uri": "https://localhost:8080/"
        },
        "id": "AdtJz5_lF6BB",
        "outputId": "0a91a95a-4de9-4dd2-ab06-09f626d3c105"
      },
      "execution_count": null,
      "outputs": [
        {
          "output_type": "stream",
          "name": "stdout",
          "text": [
            "Wh*t * lovely d*y!\n"
          ]
        }
      ]
    },
    {
      "cell_type": "code",
      "source": [
        "# Task2: Дано имя, фамилия и возраст человека\n",
        "# Выведите предложение в формате: \"This is <Имя> <Фамилия>. \n",
        "#                              He is <возраст> years old.\""
      ],
      "metadata": {
        "id": "_xn_uRZPF-9a"
      },
      "execution_count": null,
      "outputs": []
    },
    {
      "cell_type": "code",
      "source": [
        "# PUT YOUR CODE HERE\n",
        "name = \"john\"\n",
        "last_name = \"snow\"\n",
        "age = 42\n"
      ],
      "metadata": {
        "id": "n6D3B4lVGrXF"
      },
      "execution_count": null,
      "outputs": []
    },
    {
      "cell_type": "code",
      "source": [
        "# Task3: Дано предложение sentence. \n",
        "# Используя срезы, выведите первое, центральное и последнее слово"
      ],
      "metadata": {
        "id": "IIQhPWdBHDCn"
      },
      "execution_count": null,
      "outputs": []
    },
    {
      "cell_type": "code",
      "source": [
        "# PUT YOUR CODE HERE\n",
        "sentence = \"Beautiful is better than ugly.\"\n",
        "\n",
        "print(sentence) # Beautiful\n",
        "print(sentence) # better\n",
        "print(sentence) # ugly"
      ],
      "metadata": {
        "colab": {
          "base_uri": "https://localhost:8080/"
        },
        "id": "8hUFMPYuHoks",
        "outputId": "4f52dbe0-ec0b-414c-c236-6adf61369eea"
      },
      "execution_count": null,
      "outputs": [
        {
          "output_type": "stream",
          "name": "stdout",
          "text": [
            "Beautiful\n",
            "better\n",
            "ugly\n"
          ]
        }
      ]
    },
    {
      "cell_type": "code",
      "source": [],
      "metadata": {
        "id": "HYsO0KOuIFWi"
      },
      "execution_count": null,
      "outputs": []
    }
  ]
}