{
  "nbformat": 4,
  "nbformat_minor": 0,
  "metadata": {
    "colab": {
      "provenance": [],
      "include_colab_link": true
    },
    "kernelspec": {
      "name": "python3",
      "display_name": "Python 3"
    },
    "language_info": {
      "name": "python"
    }
  },
  "cells": [
    {
      "cell_type": "markdown",
      "metadata": {
        "id": "view-in-github",
        "colab_type": "text"
      },
      "source": [
        "<a href=\"https://colab.research.google.com/github/ddrraaccaarriiss/Cramer/blob/master/lection_2.ipynb\" target=\"_parent\"><img src=\"https://colab.research.google.com/assets/colab-badge.svg\" alt=\"Open In Colab\"/></a>"
      ]
    },
    {
      "cell_type": "markdown",
      "source": [
        "# Типы данных: Списки (List)"
      ],
      "metadata": {
        "id": "3ECthf2O5WTP"
      }
    },
    {
      "cell_type": "markdown",
      "source": [
        "**Список** \n",
        "\n",
        "Для работы с наборами данных Python предоставляет такие встроенные типы как списки, кортежи и словари. \n",
        "\n",
        "Список (list) представляет тип данных, который хранит набор или последовательность элементов. \n",
        "\n",
        "Свойства списков:\n",
        "\n",
        "1.   Упорядоченность\n",
        "2.   Изменяемость\n",
        "\n",
        "Для создания списка в квадратных скобках ([]) через запятую перечисляются все его элементы. Во многих языках программирования есть аналогичная структура данных, которая называется массив. Например, определим список чисел: "
      ],
      "metadata": {
        "id": "cZnRZ_rU5ht-"
      }
    },
    {
      "cell_type": "code",
      "source": [
        "numbers = [1, 2, 3, 4, 5]\n",
        "type(numbers)"
      ],
      "metadata": {
        "colab": {
          "base_uri": "https://localhost:8080/"
        },
        "id": "sJbGwyz25g7n",
        "outputId": "d2b9f87e-49da-4947-bfd4-43c539072783"
      },
      "execution_count": null,
      "outputs": [
        {
          "output_type": "execute_result",
          "data": {
            "text/plain": [
              "list"
            ]
          },
          "metadata": {},
          "execution_count": 1
        }
      ]
    },
    {
      "cell_type": "code",
      "source": [
        "# Создание пустого списка\n",
        "empty_list1 = []\n",
        "empty_list2 = list()"
      ],
      "metadata": {
        "id": "gLRQjTA47GIJ"
      },
      "execution_count": null,
      "outputs": []
    },
    {
      "cell_type": "markdown",
      "source": [
        "**Индексация и срезы (indexing & slices)**\n",
        "\n",
        "Для обращения к элементам списка надо использовать индексы, которые представляют номер элемента в списке. Индексы начинаются с нуля. То есть второй элемент будет иметь индекс 1. Для обращения к элементам с конца можно использовать отрицательные индексы, начиная с -1. То есть у последнего элемента будет индекс -1, у предпоследнего - -2 и так далее."
      ],
      "metadata": {
        "id": "ogvvafET7kgV"
      }
    },
    {
      "cell_type": "code",
      "source": [
        "numbers = [1, 2, 3, 4, 5] \n",
        "print(numbers[0]) # 1 \n",
        "print(numbers[2]) # 3 \n",
        "print(numbers[-3]) # 3 \n",
        "numbers[0] = 125 # изменяем первый элемент списка \n",
        "print(numbers[0]) # 125"
      ],
      "metadata": {
        "colab": {
          "base_uri": "https://localhost:8080/"
        },
        "id": "J0R7mNl97d3G",
        "outputId": "aaaa4a31-b33a-444c-bbe4-dba7ba9d5809"
      },
      "execution_count": null,
      "outputs": [
        {
          "output_type": "stream",
          "name": "stdout",
          "text": [
            "1\n",
            "3\n",
            "3\n",
            "125\n"
          ]
        }
      ]
    },
    {
      "cell_type": "code",
      "source": [
        "colors = [\"yellow\", \"blue\", \"black\", \"pink\", \"grey\", \"red\", \"green\"]\n",
        "print(colors[2:4]) # [\"black\", \"pink\"]\n",
        "print(colors[:5])  # ['yellow', 'blue', 'black', 'pink', 'grey']\n",
        "print(colors[4:-1]) # ['grey', 'red']\n",
        "print(colors[::-1]) # ['green', 'red', 'grey', 'pink', 'black', 'blue', 'yellow']\n",
        "print(colors[1::2]) # ['blue', 'pink', 'red']"
      ],
      "metadata": {
        "colab": {
          "base_uri": "https://localhost:8080/"
        },
        "id": "9w1mhYi69xOv",
        "outputId": "5d6b3da7-ca19-48b9-d236-e68b55c442b6"
      },
      "execution_count": null,
      "outputs": [
        {
          "output_type": "stream",
          "name": "stdout",
          "text": [
            "['black', 'pink']\n",
            "['yellow', 'blue', 'black', 'pink', 'grey']\n",
            "['grey', 'red']\n",
            "['green', 'red', 'grey', 'pink', 'black', 'blue', 'yellow']\n",
            "['blue', 'pink', 'red']\n"
          ]
        }
      ]
    },
    {
      "cell_type": "markdown",
      "source": [
        "Если необходимо создать список, в котором повторяется одно и то же значение несколько раз, то можно использовать символ звездочки *. Например, определим список из шести пятерок: "
      ],
      "metadata": {
        "id": "THuVtMiV8Sqh"
      }
    },
    {
      "cell_type": "code",
      "source": [
        "numbers = [5] * 6 # [5, 5, 5, 5, 5, 5] \n",
        "print(numbers) "
      ],
      "metadata": {
        "colab": {
          "base_uri": "https://localhost:8080/"
        },
        "id": "OPy4dFrN8RNi",
        "outputId": "b0d4658c-a639-4916-9caa-6e2fbc6ea170"
      },
      "execution_count": null,
      "outputs": [
        {
          "output_type": "stream",
          "name": "stdout",
          "text": [
            "[5, 5, 5, 5, 5, 5]\n"
          ]
        }
      ]
    },
    {
      "cell_type": "markdown",
      "source": [
        "Кроме того, если нам необходим последовательный список чисел, то для его создания удобно использовать функцию range, которая имеет три формы:\n",
        "\n",
        "● range(end): создается набор чисел от 0 до числа end \n",
        "\n",
        "● range(start, end): создается набор чисел от числа start до числа end \n",
        "\n",
        "● range(start, end, step): создается набор чисел от числа start до числа end с шагом step "
      ],
      "metadata": {
        "id": "49zEhJX38cfU"
      }
    },
    {
      "cell_type": "code",
      "source": [
        "numbers = list(range(10)) \n",
        "print(numbers) # [0, 1, 2, 3, 4, 5, 6, 7, 8, 9] \n",
        "numbers = list(range(2, 10)) \n",
        "print(numbers) # [2, 3, 4, 5, 6, 7, 8, 9] \n",
        "numbers = list(range(10, 2, -2)) \n",
        "print(numbers) # [10, 8, 6, 4] "
      ],
      "metadata": {
        "colab": {
          "base_uri": "https://localhost:8080/"
        },
        "id": "ARkHKEnd72TZ",
        "outputId": "1b5305db-31e3-4938-ee36-02b5872e9ca5"
      },
      "execution_count": null,
      "outputs": [
        {
          "output_type": "stream",
          "name": "stdout",
          "text": [
            "[0, 1, 2, 3, 4, 5, 6, 7, 8, 9]\n",
            "[2, 3, 4, 5, 6, 7, 8, 9]\n",
            "[10, 8, 6, 4]\n"
          ]
        }
      ]
    },
    {
      "cell_type": "code",
      "source": [
        "numbers = [1, 2, 3, 4, 5, 6, 7, 8, 9] \n",
        "numbers2 = list(range(1, 10)) \n",
        "print(numbers)\n",
        "print(numbers2)"
      ],
      "metadata": {
        "colab": {
          "base_uri": "https://localhost:8080/"
        },
        "id": "QW99zlHJ8hCY",
        "outputId": "e3ecf50d-173b-4e64-cd6f-76152d7655f4"
      },
      "execution_count": null,
      "outputs": [
        {
          "output_type": "stream",
          "name": "stdout",
          "text": [
            "[1, 2, 3, 4, 5, 6, 7, 8, 9]\n",
            "[1, 2, 3, 4, 5, 6, 7, 8, 9]\n"
          ]
        }
      ]
    },
    {
      "cell_type": "markdown",
      "source": [
        "Список необязательно должен содержать только однотипные объекты. Мы можем поместить в один и тот же список одновременно строки, числа, объекты других типов данных:"
      ],
      "metadata": {
        "id": "9kwJD5L-8woH"
      }
    },
    {
      "cell_type": "code",
      "source": [
        "objects = [1, 4.2, \"Hello\", True] \n",
        "objects"
      ],
      "metadata": {
        "colab": {
          "base_uri": "https://localhost:8080/"
        },
        "id": "x5hfEUbZ8mon",
        "outputId": "b832cdee-f151-4a7d-9492-541e66b34102"
      },
      "execution_count": null,
      "outputs": [
        {
          "output_type": "execute_result",
          "data": {
            "text/plain": [
              "[1, 4.2, 'Hello', True]"
            ]
          },
          "metadata": {},
          "execution_count": 10
        }
      ]
    },
    {
      "cell_type": "markdown",
      "source": [
        "**Перебор элементов** \n",
        "\n",
        "Для перебора элементов можно использовать как цикл for, так и цикл while. \n",
        "\n",
        "Перебор с помощью цикла for: "
      ],
      "metadata": {
        "id": "7dbTxXnT89P7"
      }
    },
    {
      "cell_type": "code",
      "source": [
        "companies = [\"Microsoft\", \"Google\", \"Oracle\", \"Apple\"] \n",
        "for item in companies: \n",
        "  print(item)"
      ],
      "metadata": {
        "colab": {
          "base_uri": "https://localhost:8080/"
        },
        "id": "Z-Wz61tD81mL",
        "outputId": "9782da1b-44a2-40bf-bcb7-86dc589eedf2"
      },
      "execution_count": null,
      "outputs": [
        {
          "output_type": "stream",
          "name": "stdout",
          "text": [
            "Microsoft\n",
            "Google\n",
            "Oracle\n",
            "Apple\n"
          ]
        }
      ]
    },
    {
      "cell_type": "code",
      "source": [
        "companies = [\"Microsoft\", \"Google\", \"Oracle\", \"Apple\"] \n",
        "i = 0 \n",
        "while i < len(companies): \n",
        "  print(companies[i]) \n",
        "  i += 1"
      ],
      "metadata": {
        "colab": {
          "base_uri": "https://localhost:8080/"
        },
        "id": "lrwFdBXM9Ggz",
        "outputId": "e62ffe2f-0d20-4c48-fc39-43dd660da9fe"
      },
      "execution_count": null,
      "outputs": [
        {
          "output_type": "stream",
          "name": "stdout",
          "text": [
            "Microsoft\n",
            "Google\n",
            "Oracle\n",
            "Apple\n"
          ]
        }
      ]
    },
    {
      "cell_type": "markdown",
      "source": [
        "**Сравнение списков**\n",
        "\n",
        "Два списка считаются равными, если они содержат один и тот же набор элементов:"
      ],
      "metadata": {
        "id": "gCOrymrH9SKu"
      }
    },
    {
      "cell_type": "code",
      "source": [
        "numbers = [1, 2, 3, 4, 5, 6, 7, 8, 9] \n",
        "numbers2 = list(range(1,10)) \n",
        "numbers == numbers2"
      ],
      "metadata": {
        "colab": {
          "base_uri": "https://localhost:8080/"
        },
        "id": "CVLtJYm79LQC",
        "outputId": "ce153300-0cc5-4836-cda3-5e545c681748"
      },
      "execution_count": null,
      "outputs": [
        {
          "output_type": "execute_result",
          "data": {
            "text/plain": [
              "True"
            ]
          },
          "metadata": {},
          "execution_count": 13
        }
      ]
    },
    {
      "cell_type": "markdown",
      "source": [
        "**Методы и функции по работе со списками** \n",
        "\n",
        "Для управления элементами списки имеют целый ряд методов. Некоторые из них: \n",
        "\n",
        "● append(item): добавляет элемент item в конец списка \n",
        "\n",
        "● insert(index, item): добавляет элемент item в список по индексу index \n",
        "\n",
        "● remove(item): удаляет элемент item. Удаляется только первое вхождение элемента. Если элемент не найден, генерирует исключение ValueError \n",
        "\n",
        "● clear(): удаление всех элементов из списка \n",
        "\n",
        "● index(item): возвращает индекс элемента item. Если элемент не найден, генерирует исключение ValueError \n",
        "\n",
        "● pop([index]): удаляет и возвращает элемент по индексу index. Если индекс не передан, то просто удаляет последний элемент. \n",
        "\n",
        "● count(item): возвращает количество вхождений элемента item в список \n",
        "\n",
        "● sort([key]): сортирует элементы. По умолчанию сортирует по возрастанию. Но с помощью параметра key мы можем передать функцию сортировки. \n",
        "\n",
        "● reverse(): расставляет все элементы в списке в обратном порядке \n",
        "\n",
        "Кроме того, Python предоставляет ряд встроенных функций для работы со списками: \n",
        "\n",
        "● len(list): возвращает длину списка \n",
        "\n",
        "● sorted(list, [key]): возвращает отсортированный список \n",
        "\n",
        "● min(list): возвращает наименьший элемент списка \n",
        "\n",
        "● max(list): возвращает наибольший элемент списка "
      ],
      "metadata": {
        "id": "32Lof5Mx-tNy"
      }
    },
    {
      "cell_type": "code",
      "source": [
        "# append()\n",
        "users = [\"Tom\", \"Bob\"] \n",
        "# добавляем в конец списка \n",
        "users.append(\"Alice\")\n",
        "users"
      ],
      "metadata": {
        "colab": {
          "base_uri": "https://localhost:8080/"
        },
        "id": "u-GtQozF9e5X",
        "outputId": "0df6f3e6-dc85-4c56-f64f-cb75b925da69"
      },
      "execution_count": null,
      "outputs": [
        {
          "output_type": "execute_result",
          "data": {
            "text/plain": [
              "['Tom', 'Bob', 'Alice']"
            ]
          },
          "metadata": {},
          "execution_count": 22
        }
      ]
    },
    {
      "cell_type": "code",
      "source": [
        "# insert()\n",
        "# добавляем на вторую позицию \n",
        "users.insert(1, \"Bill\")\n",
        "users"
      ],
      "metadata": {
        "colab": {
          "base_uri": "https://localhost:8080/"
        },
        "id": "WZ18U0WO_GpL",
        "outputId": "aad3842d-5c64-4758-b228-180dcd55444c"
      },
      "execution_count": null,
      "outputs": [
        {
          "output_type": "execute_result",
          "data": {
            "text/plain": [
              "['Tom', 'Bill', 'Bob', 'Alice']"
            ]
          },
          "metadata": {},
          "execution_count": 23
        }
      ]
    },
    {
      "cell_type": "code",
      "source": [
        "# index()\n",
        "# получаем индекс элемента \n",
        "i = users.index(\"Tom\") \n",
        "i"
      ],
      "metadata": {
        "colab": {
          "base_uri": "https://localhost:8080/"
        },
        "id": "zHa41OnN_Qho",
        "outputId": "fbaab7f4-8f94-4e8d-bab7-367e5a71385b"
      },
      "execution_count": null,
      "outputs": [
        {
          "output_type": "execute_result",
          "data": {
            "text/plain": [
              "0"
            ]
          },
          "metadata": {},
          "execution_count": 25
        }
      ]
    },
    {
      "cell_type": "code",
      "source": [
        "# pop()\n",
        "# удаляем по этому индексу \n",
        "removed_item = users.pop(i) # [\"Bill\", \"Bob\", \"Alice\"] \n",
        "print(users)\n",
        "print(removed_item)"
      ],
      "metadata": {
        "colab": {
          "base_uri": "https://localhost:8080/"
        },
        "id": "hTvy_g9z_ccL",
        "outputId": "a8927655-ce5b-4582-e537-ce2183870458"
      },
      "execution_count": null,
      "outputs": [
        {
          "output_type": "stream",
          "name": "stdout",
          "text": [
            "['Bill', 'Bob', 'Alice']\n",
            "Tom\n"
          ]
        }
      ]
    },
    {
      "cell_type": "code",
      "source": [
        "nums = [33, 46, 1, 9, 78]\n",
        "nums.pop() # default pop(-1)\n",
        "nums"
      ],
      "metadata": {
        "colab": {
          "base_uri": "https://localhost:8080/"
        },
        "id": "SYxLD8um_rjh",
        "outputId": "40113eb3-6557-4648-9f84-7cec86eb2d7d"
      },
      "execution_count": null,
      "outputs": [
        {
          "output_type": "execute_result",
          "data": {
            "text/plain": [
              "[33, 46, 1, 9]"
            ]
          },
          "metadata": {},
          "execution_count": 27
        }
      ]
    },
    {
      "cell_type": "code",
      "source": [
        "# remove()\n",
        "# удаляем последний элемент \n",
        "users.remove(\"Alice\")\n",
        "print(users) "
      ],
      "metadata": {
        "colab": {
          "base_uri": "https://localhost:8080/"
        },
        "id": "BrbHbZuS_1yv",
        "outputId": "90e8bad7-0752-4cde-db14-3305f61dc8c2"
      },
      "execution_count": null,
      "outputs": [
        {
          "output_type": "stream",
          "name": "stdout",
          "text": [
            "['Bill', 'Bob']\n"
          ]
        }
      ]
    },
    {
      "cell_type": "code",
      "source": [
        "# clear()\n",
        "# удаляем все элементы \n",
        "users.clear() \n",
        "users"
      ],
      "metadata": {
        "colab": {
          "base_uri": "https://localhost:8080/"
        },
        "id": "4qEbU0BJACyt",
        "outputId": "dbf05a83-8273-49c2-e87e-dcb996ae8ba8"
      },
      "execution_count": null,
      "outputs": [
        {
          "output_type": "execute_result",
          "data": {
            "text/plain": [
              "[]"
            ]
          },
          "metadata": {},
          "execution_count": 29
        }
      ]
    },
    {
      "cell_type": "code",
      "source": [
        "# count()\n",
        "users = [\"Tom\", \"Bob\", \"Alice\", \"Tom\", \"Bill\", \"Tom\"] \n",
        "users.count(\"Tom\") "
      ],
      "metadata": {
        "colab": {
          "base_uri": "https://localhost:8080/"
        },
        "id": "TtHD2a7AAHa9",
        "outputId": "00fd17c8-bbd6-4050-ae59-25befbde695c"
      },
      "execution_count": null,
      "outputs": [
        {
          "output_type": "execute_result",
          "data": {
            "text/plain": [
              "3"
            ]
          },
          "metadata": {},
          "execution_count": 30
        }
      ]
    },
    {
      "cell_type": "code",
      "source": [
        "# sort()\n",
        "users = [\"Tom\", \"Bob\", \"Alice\", \"Samantha\", \"Bill\"] \n",
        "users.sort() # reverse=True\n",
        "print(users)"
      ],
      "metadata": {
        "colab": {
          "base_uri": "https://localhost:8080/"
        },
        "id": "qmNgFelbAX9Q",
        "outputId": "f383ac14-9ddb-4e55-dd91-b1baa5e08553"
      },
      "execution_count": null,
      "outputs": [
        {
          "output_type": "stream",
          "name": "stdout",
          "text": [
            "['Alice', 'Bill', 'Bob', 'Samantha', 'Tom']\n"
          ]
        }
      ]
    },
    {
      "cell_type": "code",
      "source": [
        "users.sort(key=len)\n",
        "users"
      ],
      "metadata": {
        "colab": {
          "base_uri": "https://localhost:8080/"
        },
        "id": "H3msrKEzAeF6",
        "outputId": "f6cb607c-9538-4f37-815b-cc06af5428af"
      },
      "execution_count": null,
      "outputs": [
        {
          "output_type": "execute_result",
          "data": {
            "text/plain": [
              "['Bob', 'Tom', 'Bill', 'Alice', 'Samantha']"
            ]
          },
          "metadata": {},
          "execution_count": 37
        }
      ]
    },
    {
      "cell_type": "code",
      "source": [
        "# min(), max()\n",
        "numbers = [9, 21, 12, 1, 3, 15, 18] \n",
        "print(min(numbers)) # 1 \n",
        "print(max(numbers)) # 21 "
      ],
      "metadata": {
        "colab": {
          "base_uri": "https://localhost:8080/"
        },
        "id": "LNE8nYcWA6o8",
        "outputId": "b2154152-a2dc-468f-c530-6e6834aaad12"
      },
      "execution_count": null,
      "outputs": [
        {
          "output_type": "stream",
          "name": "stdout",
          "text": [
            "1\n",
            "21\n"
          ]
        }
      ]
    },
    {
      "cell_type": "code",
      "source": [
        "# copy()\n",
        "users1 = [\"Tom\", \"Bob\", \"Alice\"] \n",
        "users2 = users1 \n",
        "users2.append(\"Sam\") \n",
        "# users1 и users2 указывают на один и тот же список \n",
        "print(users1) # [\"Tom\", \"Bob\", \"Alice\", \"Sam\"] \n",
        "print(users2) # [\"Tom\", \"Bob\", \"Alice\", \"Sam\"] "
      ],
      "metadata": {
        "colab": {
          "base_uri": "https://localhost:8080/"
        },
        "id": "Tz8f16HGBEGK",
        "outputId": "2d90f0b7-94b3-422a-d3d8-e0ebd5f03b77"
      },
      "execution_count": null,
      "outputs": [
        {
          "output_type": "stream",
          "name": "stdout",
          "text": [
            "['Tom', 'Bob', 'Alice', 'Sam']\n",
            "['Tom', 'Bob', 'Alice', 'Sam']\n"
          ]
        }
      ]
    },
    {
      "cell_type": "code",
      "source": [
        "users1 = [\"Tom\", \"Bob\", \"Alice\"] \n",
        "users2 = users1.copy() \n",
        "users2.append(\"Sam\") \n",
        "print(users1)\n",
        "print(users2)"
      ],
      "metadata": {
        "colab": {
          "base_uri": "https://localhost:8080/"
        },
        "id": "lDEUa-T7BIX5",
        "outputId": "98b097db-bca0-4775-d8f3-f3e228b3511e"
      },
      "execution_count": null,
      "outputs": [
        {
          "output_type": "stream",
          "name": "stdout",
          "text": [
            "['Tom', 'Bob', 'Alice']\n",
            "['Tom', 'Bob', 'Alice', 'Sam']\n"
          ]
        }
      ]
    },
    {
      "cell_type": "code",
      "source": [
        "# extend()\n",
        "colors1 = [\"blue\", 'green', 'purple']\n",
        "colors2 = [\"yellow\", 'red']\n",
        "colors1.extend(colors2)\n",
        "colors1\n",
        "\n",
        "colors1 = [\"blue\", 'green', 'purple']\n",
        "colors2 = [\"yellow\", 'red']\n",
        "colors1.extend(colors2)\n",
        "colors1\n",
        "colors2.clear()\n",
        "print(colors1)\n",
        "print(colors2)"
      ],
      "metadata": {
        "colab": {
          "base_uri": "https://localhost:8080/"
        },
        "id": "tZlqDn47BWKl",
        "outputId": "24826c13-b0f0-4c60-b575-92bb5ea51c24"
      },
      "execution_count": null,
      "outputs": [
        {
          "output_type": "stream",
          "name": "stdout",
          "text": [
            "['blue', 'green', 'purple', 'yellow', 'red']\n",
            "[]\n"
          ]
        }
      ]
    },
    {
      "cell_type": "code",
      "source": [
        "colors2"
      ],
      "metadata": {
        "colab": {
          "base_uri": "https://localhost:8080/"
        },
        "id": "FTDPF3dtBoZa",
        "outputId": "aa94eba8-bac5-43a2-deb8-b9b439008976"
      },
      "execution_count": null,
      "outputs": [
        {
          "output_type": "execute_result",
          "data": {
            "text/plain": [
              "['yellow', 'red']"
            ]
          },
          "metadata": {},
          "execution_count": 42
        }
      ]
    },
    {
      "cell_type": "code",
      "source": [
        "# +\n",
        "colors1 = [\"blue\", 'green', 'purple']\n",
        "colors2 = [\"yellow\", 'red']\n",
        "a = colors1 + colors2\n",
        "\n",
        "colors2.clear()\n",
        "print(colors1)\n",
        "print(colors2)\n",
        "print(a)\n"
      ],
      "metadata": {
        "colab": {
          "base_uri": "https://localhost:8080/"
        },
        "id": "g8K5lkxsBpmd",
        "outputId": "f983615d-7e91-4b96-ce23-77d11369deb5"
      },
      "execution_count": null,
      "outputs": [
        {
          "output_type": "stream",
          "name": "stdout",
          "text": [
            "['blue', 'green', 'purple']\n",
            "[]\n",
            "['blue', 'green', 'purple', 'yellow', 'red']\n"
          ]
        }
      ]
    },
    {
      "cell_type": "code",
      "source": [
        "# nested lists\n",
        "users = [ \n",
        "  [\"Tom\", 29], \n",
        "  [\"Alice\", 33], \n",
        "  [\"Bob\", 27] \n",
        "] \n",
        "print(users[0]) # [\"Tom\", 29] \n",
        "print(users[0][0]) # Tom \n",
        "print(users[0][1]) # 29 "
      ],
      "metadata": {
        "colab": {
          "base_uri": "https://localhost:8080/"
        },
        "id": "HhJAKJ18B0NU",
        "outputId": "13ef08a4-f36d-4d6a-ec4f-c070fe57950f"
      },
      "execution_count": null,
      "outputs": [
        {
          "output_type": "stream",
          "name": "stdout",
          "text": [
            "['Tom', 29]\n",
            "Tom\n",
            "29\n"
          ]
        }
      ]
    },
    {
      "cell_type": "markdown",
      "source": [
        "### Let's do it together!"
      ],
      "metadata": {
        "id": "q9Oe8nh_Ce_U"
      }
    },
    {
      "cell_type": "code",
      "source": [
        "# У вас есть список, внутри которого есть вложенные списки с именем студента и его баллом за тест:\n",
        "students = [\n",
        "    [\"Sandy\", 89],\n",
        "    [\"Karen\", 70],\n",
        "    [\"John\", 99],\n",
        "    [\"Ron\", 56],\n",
        "    [\"Harry\", 85]\n",
        "]"
      ],
      "metadata": {
        "id": "YcRjK0gMB-o-"
      },
      "execution_count": null,
      "outputs": []
    },
    {
      "cell_type": "code",
      "source": [
        "# Добавьте в этот список еще одну пару [\"Scarlett\", 100]\n",
        "# PUT YOUR CODE HERE\n"
      ],
      "metadata": {
        "id": "iy96lPfLDEgi"
      },
      "execution_count": null,
      "outputs": []
    },
    {
      "cell_type": "code",
      "source": [
        "# Оказалось, что Harry получил 6 экстра баллов. Исправьте его балл\n",
        "# PUT YOUR CODE HERE\n"
      ],
      "metadata": {
        "id": "NiTq5pcVDUZq"
      },
      "execution_count": null,
      "outputs": []
    },
    {
      "cell_type": "code",
      "source": [
        "# Студентка Karen больше не числится. Удалите ее\n",
        "# PUT YOUR CODE HERE\n"
      ],
      "metadata": {
        "id": "sdI_yWMPDuc0"
      },
      "execution_count": null,
      "outputs": []
    }
  ]
}